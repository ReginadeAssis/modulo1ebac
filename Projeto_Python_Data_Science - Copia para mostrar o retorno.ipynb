{
  "cells": [
    {
      "cell_type": "markdown",
      "metadata": {
        "id": "lQx6Mmv0OJyT"
      },
      "source": [
        "# Python para Data Science\n",
        "\n",
        "Notebook para o curso de Python para Data Science publicado na plataforma da [Alura](https://www.alura.com.br/)"
      ]
    },
    {
      "cell_type": "markdown",
      "metadata": {
        "id": "7SiB6JIpYKmY"
      },
      "source": [
        "# Introdução ao Python\n",
        "\n",
        "Vamos conhecer o Python, nosso ambiente de estudo e também faremos nosso primeiro código nessa linguagem!"
      ]
    },
    {
      "cell_type": "markdown",
      "metadata": {
        "id": "Yugfb3fCOYY9"
      },
      "source": [
        "## Google Colaboratory\n",
        "\n",
        "Já aprendemos o que é o [Python](https://www.python.org/) agora vamos aprender a utilzar o [Google Colaboratory](https://colab.research.google.com/) e programar em um notebook.\n",
        "\n",
        "Vamos testar algumas funções dessa ferramenta."
      ]
    },
    {
      "cell_type": "markdown",
      "metadata": {
        "id": "2iUHQsJasJAk"
      },
      "source": [
        " **`>>> Use essa célula para mover <<<`**"
      ]
    },
    {
      "cell_type": "code",
      "execution_count": null,
      "metadata": {
        "id": "tWQp3j7S6MTX"
      },
      "outputs": [],
      "source": []
    },
    {
      "cell_type": "markdown",
      "metadata": {
        "id": "aLSFP2V7XTfe"
      },
      "source": [
        "## Olá mundo!\n",
        "\n",
        "Vamso conhecer mais como funciona o ambiente interativo de um notebook. Para isso vamos executar nosso primeiro comando em Python: [`print()`](https://docs.python.org/3/library/functions.html#print)"
      ]
    },
    {
      "cell_type": "code",
      "execution_count": null,
      "metadata": {
        "colab": {
          "base_uri": "https://localhost:8080/"
        },
        "id": "tNeEkSW06K8X",
        "outputId": "3bbd277b-2e3f-4e0c-d130-88c53cdd0c9e"
      },
      "outputs": [
        {
          "name": "stdout",
          "output_type": "stream",
          "text": [
            "Olá mundo!\n"
          ]
        }
      ],
      "source": [
        "print('Olá mundo!')"
      ]
    },
    {
      "cell_type": "code",
      "execution_count": null,
      "metadata": {
        "colab": {
          "base_uri": "https://localhost:8080/"
        },
        "id": "2sKZJ-PO6K0w",
        "outputId": "ebdebb85-d6cc-4c76-d6b5-ca7eb7f6c531"
      },
      "outputs": [
        {
          "name": "stdout",
          "output_type": "stream",
          "text": [
            "10\n"
          ]
        }
      ],
      "source": [
        "print(10)"
      ]
    },
    {
      "cell_type": "code",
      "execution_count": null,
      "metadata": {
        "colab": {
          "base_uri": "https://localhost:8080/"
        },
        "id": "WFipXRRQAz5-",
        "outputId": "5a76dc12-713f-4574-e8cc-b5f1559bbbf4"
      },
      "outputs": [
        {
          "name": "stdout",
          "output_type": "stream",
          "text": [
            "Regina 26\n"
          ]
        }
      ],
      "source": [
        "print('Regina',26)"
      ]
    },
    {
      "cell_type": "code",
      "execution_count": null,
      "metadata": {
        "colab": {
          "base_uri": "https://localhost:8080/"
        },
        "id": "uldjOC5_BTPu",
        "outputId": "6344b9df-4ef6-4333-f22e-32bb63a19d35"
      },
      "outputs": [
        {
          "name": "stdout",
          "output_type": "stream",
          "text": [
            "Escola de Dados Alura\n"
          ]
        }
      ],
      "source": [
        "print('Escola de Dados Alura')"
      ]
    },
    {
      "cell_type": "code",
      "execution_count": null,
      "metadata": {
        "colab": {
          "base_uri": "https://localhost:8080/"
        },
        "id": "C1rG3oyXBXzR",
        "outputId": "366a9e75-fe2a-453d-88dc-bccf858163bf"
      },
      "outputs": [
        {
          "name": "stdout",
          "output_type": "stream",
          "text": [
            "Nome:Regina Sobrenome:Maciel\n"
          ]
        }
      ],
      "source": [
        "print('Nome:Regina','Sobrenome:Maciel')"
      ]
    },
    {
      "cell_type": "code",
      "execution_count": null,
      "metadata": {
        "colab": {
          "base_uri": "https://localhost:8080/",
          "height": 106
        },
        "id": "aJhw5FOhBrK8",
        "outputId": "955497bf-bdd9-4833-94aa-b4cfd54d3459"
      },
      "outputs": [
        {
          "ename": "SyntaxError",
          "evalue": "unterminated string literal (detected at line 1) (<ipython-input-7-14e16793479e>, line 1)",
          "output_type": "error",
          "traceback": [
            "\u001b[0;36m  File \u001b[0;32m\"<ipython-input-7-14e16793479e>\"\u001b[0;36m, line \u001b[0;32m1\u001b[0m\n\u001b[0;31m    print('R', 'E', 'G','i,'N','A')\u001b[0m\n\u001b[0m                                 ^\u001b[0m\n\u001b[0;31mSyntaxError\u001b[0m\u001b[0;31m:\u001b[0m unterminated string literal (detected at line 1)\n"
          ]
        }
      ],
      "source": [
        "print('R', 'E', 'G','i,'N','A')"
      ]
    },
    {
      "cell_type": "code",
      "execution_count": null,
      "metadata": {
        "colab": {
          "base_uri": "https://localhost:8080/"
        },
        "id": "JoIudYm_CGt8",
        "outputId": "de2298e8-7881-4139-99dd-cbc5b2921761"
      },
      "outputs": [
        {
          "name": "stdout",
          "output_type": "stream",
          "text": [
            "R\n",
            "E\n",
            "G\n",
            "I\n",
            "N\n",
            "A\n"
          ]
        }
      ],
      "source": [
        "texto = \"REGINA\"\n",
        "for letra in texto:\n",
        "    print(letra)\n"
      ]
    },
    {
      "cell_type": "code",
      "execution_count": null,
      "metadata": {
        "colab": {
          "base_uri": "https://localhost:8080/"
        },
        "id": "EduWCfEyDAPq",
        "outputId": "da37933e-c5c8-4e85-eb1b-04c475064d96"
      },
      "outputs": [
        {
          "name": "stdout",
          "output_type": "stream",
          "text": [
            "12  de fevereiro de 1999\n"
          ]
        }
      ],
      "source": [
        "print(12, ' de fevereiro de',1999)"
      ]
    },
    {
      "cell_type": "code",
      "execution_count": null,
      "metadata": {
        "colab": {
          "base_uri": "https://localhost:8080/"
        },
        "id": "OZMxpebbDRFg",
        "outputId": "78f12bd7-0d20-4a78-a2c2-e7d325f2d045"
      },
      "outputs": [
        {
          "name": "stdout",
          "output_type": "stream",
          "text": [
            "2024\n"
          ]
        }
      ],
      "source": [
        "#pega o ano da biblioteca\n",
        "from datetime import datetime\n",
        "#pega o ano e joga em uma variável\n",
        "ano_atual=datetime.now().year\n",
        "#exibe o ano\n",
        "print(ano_atual)"
      ]
    },
    {
      "cell_type": "markdown",
      "metadata": {
        "id": "VgoRC9ezzVyj"
      },
      "source": [
        "#Cabeçalho\n",
        "##Cabeçalho\n",
        "###Cabeçalho\n"
      ]
    },
    {
      "cell_type": "markdown",
      "metadata": {
        "id": "eFHme1Ux1B-j"
      },
      "source": [
        "**Negrito**\n",
        "*Italico*\n",
        "\n",
        "Unorderlist\n",
        "* Item 1\n",
        "* Item 2\n",
        "* Item 3\n",
        "\n",
        "Orderlist\n",
        "1. Item 1\n",
        "2. Item 2\n",
        "3. Item 3\n",
        "\n",
        "**Teste Link**\n",
        "[Banana de Pijama](https://pt.wikipedia.org/wiki/Bananas_in_Pyjamas)"
      ]
    },
    {
      "cell_type": "code",
      "execution_count": null,
      "metadata": {
        "id": "cSr6TnRjzZhd"
      },
      "outputs": [],
      "source": []
    },
    {
      "cell_type": "markdown",
      "metadata": {
        "id": "9MT5xMtW1kGx"
      },
      "source": []
    },
    {
      "cell_type": "markdown",
      "metadata": {
        "id": "iP8uWQmFYFRs"
      },
      "source": [
        "# Manipulando dados\n",
        "\n",
        "Vamos aprender sobre as variáveis no python, como elas são declaradas e utilizadas além de conhecer outros comandos dentro do Python. :D"
      ]
    },
    {
      "cell_type": "markdown",
      "metadata": {
        "id": "sLNVmnTbag1Z"
      },
      "source": [
        "## Variáveis\n",
        "\n",
        "Em Data Science nós trabalhamos com vários dados e informações, então é essencial saber trabalhar com variáveis."
      ]
    },
    {
      "cell_type": "markdown",
      "metadata": {
        "id": "lsCY0wahAbf6"
      },
      "source": [
        "Criamos uma variável no python através da atribuição de um valor a ela.\n",
        "\n",
        "Para fazer isso, colocamos o nome da variável um sinal de igual (`=`) e o valor que queremos atribuir"
      ]
    },
    {
      "cell_type": "code",
      "execution_count": null,
      "metadata": {
        "colab": {
          "base_uri": "https://localhost:8080/"
        },
        "id": "8J3pJghf57ZI",
        "outputId": "f56a4fa5-1469-4994-f5bc-bdf3c9a5f42c"
      },
      "outputs": [
        {
          "name": "stdout",
          "output_type": "stream",
          "text": [
            "5\n"
          ]
        }
      ],
      "source": [
        "idade = 5\n",
        "print(idade)\n",
        "\n"
      ]
    },
    {
      "cell_type": "code",
      "execution_count": null,
      "metadata": {
        "colab": {
          "base_uri": "https://localhost:8080/"
        },
        "id": "SAzOGjDT3MPT",
        "outputId": "ade6365f-2246-4347-834d-c2dd02a8c591"
      },
      "outputs": [
        {
          "name": "stdout",
          "output_type": "stream",
          "text": [
            "10\n"
          ]
        }
      ],
      "source": [
        "idade = 10\n",
        "print(idade)"
      ]
    },
    {
      "cell_type": "code",
      "execution_count": null,
      "metadata": {
        "colab": {
          "base_uri": "https://localhost:8080/"
        },
        "id": "82qmrXyz58SD",
        "outputId": "17257cd3-2d75-434f-eb1d-0810a9524806"
      },
      "outputs": [
        {
          "data": {
            "text/plain": [
              "15"
            ]
          },
          "execution_count": 6,
          "metadata": {},
          "output_type": "execute_result"
        }
      ],
      "source": [
        "idade = 15\n",
        "idade # só funciona na última linha"
      ]
    },
    {
      "cell_type": "code",
      "execution_count": null,
      "metadata": {
        "colab": {
          "base_uri": "https://localhost:8080/",
          "height": 36
        },
        "id": "h0QjCDb15z7-",
        "outputId": "5292247d-273d-4505-d37f-c4a963d7c04f"
      },
      "outputs": [
        {
          "data": {
            "application/vnd.google.colaboratory.intrinsic+json": {
              "type": "string"
            },
            "text/plain": [
              "'Gabriel'"
            ]
          },
          "execution_count": 7,
          "metadata": {},
          "output_type": "execute_result"
        }
      ],
      "source": [
        "nome = 'Gabriel'\n",
        "nome"
      ]
    },
    {
      "cell_type": "markdown",
      "metadata": {
        "id": "om2N0jHKAzwL"
      },
      "source": [
        "Nomes que **não** podemos definir para variáveis:\n",
        "\n",
        "- **Nomes que começam com números**\n",
        "  - Exemplos: `10_notas`, `2_nomes_casa`, etc.\n",
        "- **Palavras separada por espaço**\n",
        "  - Exemplos: `Nome escola`, `notas estudantes`, etc.\n",
        "- **Nomes de funções do Python**\n",
        "  - Exemplos: `print`, `type`, etc."
      ]
    },
    {
      "cell_type": "markdown",
      "metadata": {
        "id": "A19vY2GVMujB"
      },
      "source": [
        "> Letras maiúsculas e minúsculas vão gerar diferentes variáveis. A varíavel `idade` é diferente de `Idade` que por sua vez também é diferente de `IDADE`:\n",
        "``` Python\n",
        "idade = 1\n",
        "Idade = 2\n",
        "IDADE = 3\n",
        "_idade = 4\n",
        "_idade_ = 5\n",
        "print(idade, Idade, IDADE, _idade, _idade_)\n",
        "1 2 3 4 5\n",
        "```"
      ]
    },
    {
      "cell_type": "markdown",
      "metadata": {
        "id": "UqhzuBhBHsps"
      },
      "source": [
        "## Tipos de variáveis\n",
        "\n",
        "Cada variável contém uma classe especifica quanto ao tipo de objeto que ela está se referenciando. Essas classes vão ser diferentes a partir do tipo de dado que nós atribuimos a uma variável.\n",
        "\n",
        "Para saber a classe de cada elemento usamos a função [`type()`](https://docs.python.org/3/library/functions.html#type)"
      ]
    },
    {
      "cell_type": "code",
      "execution_count": null,
      "metadata": {
        "colab": {
          "base_uri": "https://localhost:8080/"
        },
        "id": "-tb-XRcq5v9W",
        "outputId": "9c588829-b1e8-41d4-ba58-fb26d7954614"
      },
      "outputs": [
        {
          "data": {
            "text/plain": [
              "int"
            ]
          },
          "execution_count": 17,
          "metadata": {},
          "output_type": "execute_result"
        }
      ],
      "source": [
        "#Primeiro cria a variável\n",
        "idade = 5\n",
        "#Verifica a classe/tipo\n",
        "type(idade)"
      ]
    },
    {
      "cell_type": "code",
      "execution_count": null,
      "metadata": {
        "colab": {
          "base_uri": "https://localhost:8080/"
        },
        "id": "5ncn48tw5vw2",
        "outputId": "95194400-de8a-4579-ef28-2126491ba46e"
      },
      "outputs": [
        {
          "data": {
            "text/plain": [
              "float"
            ]
          },
          "execution_count": 14,
          "metadata": {},
          "output_type": "execute_result"
        }
      ],
      "source": [
        "#Primeiro cria a variável\n",
        "i = 1.5\n",
        "#Verifica a classe/tipo\n",
        "type(i)"
      ]
    },
    {
      "cell_type": "code",
      "execution_count": null,
      "metadata": {
        "colab": {
          "base_uri": "https://localhost:8080/"
        },
        "id": "PURhkDrw5vpB",
        "outputId": "a8ada9e5-b17b-4bf3-8115-2489baaad438"
      },
      "outputs": [
        {
          "data": {
            "text/plain": [
              "str"
            ]
          },
          "execution_count": 15,
          "metadata": {},
          "output_type": "execute_result"
        }
      ],
      "source": [
        "#Primeiro cria a variável\n",
        "nome = \"Jenifer\"\n",
        "#Verifica a classe/tipo\n",
        "type(nome)"
      ]
    },
    {
      "cell_type": "code",
      "execution_count": null,
      "metadata": {
        "colab": {
          "base_uri": "https://localhost:8080/"
        },
        "id": "w0XcF4MC5vhw",
        "outputId": "49d9db5b-e673-4ecd-87ba-1d830d591e37"
      },
      "outputs": [
        {
          "data": {
            "text/plain": [
              "bool"
            ]
          },
          "execution_count": 16,
          "metadata": {},
          "output_type": "execute_result"
        }
      ],
      "source": [
        "#Primeiro cria a variável\n",
        "vivaAgora = True\n",
        "#Verifica a classe/tipo\n",
        "type(vivaAgora)"
      ]
    },
    {
      "cell_type": "markdown",
      "metadata": {
        "id": "O-FxDumfWu0C"
      },
      "source": [
        "Em um conjunto de dados escolares podemos ter vários tipos de informações. Digamos que tenhamos acesso à ficha de dados do aluno *Frabicio Daniel* como transformamos ela em variáveis no Python?\n",
        "\n",
        "#### Ficha:\n",
        "\n",
        "- Nome: Fabricio Daniel\n",
        "- Idade: 15 anos\n",
        "- Media do semestre: 8,45\n",
        "- Situação de aprovação: Verdadeira (aprovado)"
      ]
    },
    {
      "cell_type": "code",
      "execution_count": null,
      "metadata": {
        "colab": {
          "base_uri": "https://localhost:8080/"
        },
        "id": "xZ3Exi2L5ozi",
        "outputId": "b05bbd81-2906-444a-8779-551eaa319805"
      },
      "outputs": [
        {
          "name": "stdout",
          "output_type": "stream",
          "text": [
            "Fabricio 15 8.45 True\n"
          ]
        }
      ],
      "source": [
        "nome_aluno = 'Fabricio'\n",
        "idade_aluno = 15\n",
        "media_aluno = 8.45\n",
        "situacao_aluno = True\n",
        "print(nome_aluno,idade_aluno,media_aluno,situacao_aluno)"
      ]
    },
    {
      "cell_type": "markdown",
      "metadata": {
        "id": "KFq_8Sxf-OG0"
      },
      "source": [
        "## Variáveis numéricas\n",
        "\n",
        "Entre os tipos de dados numéricos vamos nos focar no tipo `inteiro` e `float`."
      ]
    },
    {
      "cell_type": "markdown",
      "metadata": {
        "id": "8_HYUbkVYdQY"
      },
      "source": [
        "Temos uma tabela de informação de empregos quanto ao cargo, quantidade de pessoas empregadas e o salário correspondente:\n",
        "\n",
        "|Cargo | Quantidade | Salário|\n",
        "|---|---|---|\n",
        "|Segurança | 5 | 3000 |\n",
        "|Docente | 16| 6000|\n",
        "|Diretoria| 1 |12500|\n",
        "\n",
        "Precisamos trabalhar com esses dados fornecendo:\n",
        "\n",
        "- A quantidade total de empregados;\n",
        "- A diferença entre o salário mais baixo e mais alto; e\n",
        "- A média ponderada da faixa salarial da escola."
      ]
    },
    {
      "cell_type": "code",
      "execution_count": null,
      "metadata": {
        "id": "xJIq5MRRZAlj"
      },
      "outputs": [],
      "source": [
        "q_seguranca = 5\n",
        "s_seguranca = 3000\n",
        "\n",
        "q_docente = 16\n",
        "s_docente = 6000\n",
        "\n",
        "q_diretoria = 1\n",
        "s_diretoria = 12500"
      ]
    },
    {
      "cell_type": "code",
      "execution_count": null,
      "metadata": {
        "colab": {
          "base_uri": "https://localhost:8080/"
        },
        "id": "pIgt-k6T5WpB",
        "outputId": "1b224c98-2540-4457-a129-44736055e1ac"
      },
      "outputs": [
        {
          "data": {
            "text/plain": [
              "22"
            ]
          },
          "execution_count": 9,
          "metadata": {},
          "output_type": "execute_result"
        }
      ],
      "source": [
        "total_empregados = q_seguranca + q_docente + q_diretoria\n",
        "total_empregados"
      ]
    },
    {
      "cell_type": "code",
      "execution_count": null,
      "metadata": {
        "colab": {
          "base_uri": "https://localhost:8080/"
        },
        "id": "bL9uGHvp5We5",
        "outputId": "703daaaa-273d-45ef-ceed-feb8286f0f7c"
      },
      "outputs": [
        {
          "data": {
            "text/plain": [
              "9500"
            ]
          },
          "execution_count": 10,
          "metadata": {},
          "output_type": "execute_result"
        }
      ],
      "source": [
        "diferenca_salarial = s_diretoria - s_seguranca\n",
        "diferenca_salarial"
      ]
    },
    {
      "cell_type": "code",
      "execution_count": null,
      "metadata": {
        "colab": {
          "base_uri": "https://localhost:8080/"
        },
        "id": "GpTS_c8_5WX_",
        "outputId": "fb14f365-3e34-42f2-bb5d-aae14f02089e"
      },
      "outputs": [
        {
          "data": {
            "text/plain": [
              "5613.636363636364"
            ]
          },
          "execution_count": 12,
          "metadata": {},
          "output_type": "execute_result"
        }
      ],
      "source": [
        "media = (q_seguranca * s_seguranca + q_docente * s_docente + q_diretoria * s_diretoria) / total_empregados\n",
        "media\n"
      ]
    },
    {
      "cell_type": "code",
      "execution_count": null,
      "metadata": {
        "colab": {
          "base_uri": "https://localhost:8080/"
        },
        "id": "9JOlPwp0zzfj",
        "outputId": "d5a5a196-107d-4791-dd32-5056494b1e28"
      },
      "outputs": [
        {
          "data": {
            "text/plain": [
              "2"
            ]
          },
          "execution_count": 2,
          "metadata": {},
          "output_type": "execute_result"
        }
      ],
      "source": [
        "2**3\n"
      ]
    },
    {
      "cell_type": "code",
      "execution_count": null,
      "metadata": {
        "colab": {
          "base_uri": "https://localhost:8080/"
        },
        "id": "ZaE6MRw503MP",
        "outputId": "19462083-2d72-4989-f56e-228effce8e79"
      },
      "outputs": [
        {
          "data": {
            "text/plain": [
              "1"
            ]
          },
          "execution_count": 5,
          "metadata": {},
          "output_type": "execute_result"
        }
      ],
      "source": [
        "7%3 #Pega o resto da divisão\n"
      ]
    },
    {
      "cell_type": "code",
      "execution_count": null,
      "metadata": {
        "colab": {
          "base_uri": "https://localhost:8080/"
        },
        "id": "cyz-FeB313aR",
        "outputId": "bd7c4b96-d46b-480e-94f8-eb138eafce80"
      },
      "outputs": [
        {
          "data": {
            "text/plain": [
              "2"
            ]
          },
          "execution_count": 6,
          "metadata": {},
          "output_type": "execute_result"
        }
      ],
      "source": [
        "7//3 #Pega só a parte inteira da divisão"
      ]
    },
    {
      "cell_type": "markdown",
      "metadata": {
        "id": "yQy7b0ZWoD-P"
      },
      "source": [
        "## Strings"
      ]
    },
    {
      "cell_type": "code",
      "execution_count": null,
      "metadata": {
        "colab": {
          "base_uri": "https://localhost:8080/"
        },
        "id": "znPntDUD0x8Q",
        "outputId": "bf8e3a2f-bd3c-4fea-8ebf-18dcff75320a"
      },
      "outputs": [
        {
          "name": "stdout",
          "output_type": "stream",
          "text": [
            "<class 'str'> <class 'str'>\n"
          ]
        }
      ],
      "source": [
        "\n",
        "e1 = 'Alura'\n",
        "e2 = \"Alura\"\n",
        "print (type(e1), type(e2))"
      ]
    },
    {
      "cell_type": "markdown",
      "metadata": {
        "id": "vlo2-DXusv3s"
      },
      "source": [
        "Strings são caracterizada por ter um conjunto de caracteres formando um texto.\n",
        "\n",
        "Strigs podem ser criadas ao atribuirmos a uma variável um dado que esteja entre aspas simples (`'`) ou aspas duplas (`\"`)"
      ]
    },
    {
      "cell_type": "code",
      "execution_count": null,
      "metadata": {
        "id": "SSinaAb15FWn"
      },
      "outputs": [],
      "source": []
    },
    {
      "cell_type": "markdown",
      "metadata": {
        "id": "2e9UD_CCxqz_"
      },
      "source": [
        "As variáveis textuais contém vários métodos que nos ajudam a formatar strings. Métódos podem ser executados ao definirmos um objeto seguindo a seguinte estrutura:\n",
        "\n",
        "```\n",
        "nomedoobjeto.nomedometodo()\n",
        "```\n",
        "\n",
        "Existem métodos que não necessitam dos `()`, é preciso verificar a documentação de cada caso."
      ]
    },
    {
      "cell_type": "markdown",
      "metadata": {
        "id": "p6aPmMGP4tf9"
      },
      "source": [
        "---\n",
        "**Situação:**\n",
        "\n",
        "Recebemos uma variável com o nome de uma professora da escola para inserimos no cadastro. No entanto, precisamos tratar esse texto antes de inserirmos no sistema"
      ]
    },
    {
      "cell_type": "code",
      "execution_count": null,
      "metadata": {
        "id": "4tkS8Iit1Ccg"
      },
      "outputs": [],
      "source": [
        "texto = '  Geovana Alessandra dias Sanyos '"
      ]
    },
    {
      "cell_type": "markdown",
      "metadata": {
        "id": "Dg2ZXSZOGzjC"
      },
      "source": [
        "O objetivo final é que o nome esteja da seguinte forma:\n",
        "\n",
        "```\n",
        "'GEOVANA ALESSANDRA DIAS SANTOS'\n",
        "```"
      ]
    },
    {
      "cell_type": "markdown",
      "metadata": {
        "id": "iVTAD8q702eN"
      },
      "source": [
        "### [`str.upper()` ](https://docs.python.org/3/library/stdtypes.html#str.upper)\n",
        "Converte uma string para maiúsculas"
      ]
    },
    {
      "cell_type": "code",
      "execution_count": null,
      "metadata": {
        "colab": {
          "base_uri": "https://localhost:8080/",
          "height": 36
        },
        "id": "sWMt1iWW5LdN",
        "outputId": "0027d6ff-83ce-4aef-d05b-380259e3931e"
      },
      "outputs": [
        {
          "data": {
            "application/vnd.google.colaboratory.intrinsic+json": {
              "type": "string"
            },
            "text/plain": [
              "'  GEOVANA ALESSANDRA DIAS SANYOS '"
            ]
          },
          "execution_count": 9,
          "metadata": {},
          "output_type": "execute_result"
        }
      ],
      "source": [
        "texto = '  Geovana Alessandra dias Sanyos '\n",
        "texto.upper()"
      ]
    },
    {
      "cell_type": "markdown",
      "metadata": {
        "id": "hbDSBtMV1TpG"
      },
      "source": [
        "### [`str.lower()`](https://docs.python.org/3/library/stdtypes.html#str.lower)\n",
        "Método converte uma string para minúsculas."
      ]
    },
    {
      "cell_type": "code",
      "execution_count": null,
      "metadata": {
        "colab": {
          "base_uri": "https://localhost:8080/",
          "height": 36
        },
        "id": "ypSOC5WR5MTi",
        "outputId": "16298ea4-cc6b-4426-ff79-1c3b5332de08"
      },
      "outputs": [
        {
          "data": {
            "application/vnd.google.colaboratory.intrinsic+json": {
              "type": "string"
            },
            "text/plain": [
              "'  geovana alessandra dias sanyos '"
            ]
          },
          "execution_count": 10,
          "metadata": {},
          "output_type": "execute_result"
        }
      ],
      "source": [
        "texto.lower()"
      ]
    },
    {
      "cell_type": "markdown",
      "metadata": {
        "id": "kz47eWM11gii"
      },
      "source": [
        "### [`str.strip()`](https://docs.python.org/3/library/stdtypes.html#str.strip)\n",
        "Método remove os espaços em branco do início e do fim de uma string."
      ]
    },
    {
      "cell_type": "code",
      "execution_count": null,
      "metadata": {
        "colab": {
          "base_uri": "https://localhost:8080/",
          "height": 36
        },
        "id": "Xys25o1N5NKD",
        "outputId": "62a95949-3e41-4b9b-881c-8eb4379285d6"
      },
      "outputs": [
        {
          "data": {
            "application/vnd.google.colaboratory.intrinsic+json": {
              "type": "string"
            },
            "text/plain": [
              "'Geovana Alessandra dias Sanyos'"
            ]
          },
          "execution_count": 11,
          "metadata": {},
          "output_type": "execute_result"
        }
      ],
      "source": [
        "texto.strip()"
      ]
    },
    {
      "cell_type": "markdown",
      "metadata": {
        "id": "m6notiyS1SCV"
      },
      "source": [
        "### [`str.replace(antigo, novo)`](https://docs.python.org/3/library/stdtypes.html#str.replace)\n",
        "\n",
        "Método substitui todas as ocorrências do texto \"antigo\" na string por \"novo\""
      ]
    },
    {
      "cell_type": "code",
      "execution_count": null,
      "metadata": {
        "colab": {
          "base_uri": "https://localhost:8080/",
          "height": 36
        },
        "id": "oY2mU2Id5OcO",
        "outputId": "ebc9e112-84e9-4bcd-e854-646ca0fc6ea1"
      },
      "outputs": [
        {
          "data": {
            "application/vnd.google.colaboratory.intrinsic+json": {
              "type": "string"
            },
            "text/plain": [
              "'  Geovana Alessandra dias Santos '"
            ]
          },
          "execution_count": 12,
          "metadata": {},
          "output_type": "execute_result"
        }
      ],
      "source": [
        "texto.replace('y','t')"
      ]
    },
    {
      "cell_type": "markdown",
      "metadata": {
        "id": "zukvEjhG2Rcn"
      },
      "source": [
        "### Observações\n",
        "\n",
        "1. Os métodos retornam uma **tranformação**, não a executam no texto!\n",
        "\n",
        "2. Além disso, podemos acumular a execução de métodos."
      ]
    },
    {
      "cell_type": "code",
      "execution_count": null,
      "metadata": {
        "colab": {
          "base_uri": "https://localhost:8080/",
          "height": 36
        },
        "id": "Q6O5y20u5PQk",
        "outputId": "8e78d50e-7f2f-48b9-9d5c-0de6ae7a69b1"
      },
      "outputs": [
        {
          "data": {
            "application/vnd.google.colaboratory.intrinsic+json": {
              "type": "string"
            },
            "text/plain": [
              "'  Geovana Alessandra dias Sanyos '"
            ]
          },
          "execution_count": 13,
          "metadata": {},
          "output_type": "execute_result"
        }
      ],
      "source": [
        "texto"
      ]
    },
    {
      "cell_type": "markdown",
      "metadata": {
        "id": "1KbwfVut2h6I"
      },
      "source": [
        "Para que seja executada a transformação nós podemos atribuir às saídas das transformações à variável"
      ]
    },
    {
      "cell_type": "code",
      "execution_count": null,
      "metadata": {
        "id": "W6DiHv2H5Tq-"
      },
      "outputs": [],
      "source": [
        "#Para que a mudança penetre é preciso colocar a variável em uma variavel"
      ]
    },
    {
      "cell_type": "code",
      "execution_count": null,
      "metadata": {
        "colab": {
          "base_uri": "https://localhost:8080/"
        },
        "id": "buivmnVs5qGL",
        "outputId": "f1859b8a-298c-4413-c851-89198e85de3d"
      },
      "outputs": [
        {
          "name": "stdout",
          "output_type": "stream",
          "text": [
            "GEOVANA ALESSANDRA DIAS SANTOS\n"
          ]
        }
      ],
      "source": [
        "texto = texto.strip().replace('y','t').upper() #pode ir colocando ponto e acumalando como js\n",
        "print(texto)"
      ]
    },
    {
      "cell_type": "markdown",
      "metadata": {
        "id": "30ryU-Vs6x8o"
      },
      "source": [
        "Em alguns momentos para vc pegar o caracter que quer pode usar a tabela unicode e exibir o numero dele\n",
        "chr(64) que é @ e tbm fazer frases maiores com chr(24) + chr(108) + chr(225)\n"
      ]
    },
    {
      "cell_type": "code",
      "execution_count": null,
      "metadata": {
        "colab": {
          "base_uri": "https://localhost:8080/"
        },
        "id": "78IsO2m37J7w",
        "outputId": "a91df1f5-8813-45a3-b51b-fabfc90e4ad3"
      },
      "outputs": [
        {
          "name": "stdout",
          "output_type": "stream",
          "text": [
            "@ \u0018㳆á\n"
          ]
        }
      ],
      "source": [
        "exemplo1 = chr(64)\n",
        "exemplo2 = chr(24) + chr(15558) + chr(225)\n",
        "print(exemplo1, exemplo2)\n"
      ]
    },
    {
      "cell_type": "markdown",
      "metadata": {
        "id": "0h9Fh5G9kHCa"
      },
      "source": [
        "## Coletando dados\n",
        "\n",
        "Em algumas aplicações precisamos coletar valores da pessoa usuária do nosso projeto. Em python conseguimos coletar dados de usuário através do comando [`input()`](https://docs.python.org/3/library/functions.html#input).\n",
        "\n",
        "Para fazer essa coleta podemos atribuir essa função à uma variável."
      ]
    },
    {
      "cell_type": "code",
      "execution_count": null,
      "metadata": {
        "colab": {
          "base_uri": "https://localhost:8080/"
        },
        "id": "iEJyxhIj41id",
        "outputId": "e6185c1f-42e6-4fbd-fa14-62a5b1d6e809"
      },
      "outputs": [
        {
          "name": "stdout",
          "output_type": "stream",
          "text": [
            "nome:Regina\n"
          ]
        }
      ],
      "source": [
        "nomedavariavel = input('nome:')"
      ]
    },
    {
      "cell_type": "code",
      "execution_count": null,
      "metadata": {
        "colab": {
          "base_uri": "https://localhost:8080/"
        },
        "id": "MoMXzZkC41Ze",
        "outputId": "e4b152bc-5db3-4cb5-e6c8-4863c69c3f5d"
      },
      "outputs": [
        {
          "name": "stdout",
          "output_type": "stream",
          "text": [
            "Escreva o ano:2023\n"
          ]
        }
      ],
      "source": [
        "ano_entrada = input('Escreva o ano:') #daqui sai string e para fazer algo com isso vc tem que converter"
      ]
    },
    {
      "cell_type": "code",
      "execution_count": null,
      "metadata": {
        "colab": {
          "base_uri": "https://localhost:8080/"
        },
        "id": "WVaSjDIM88VL",
        "outputId": "bf83491e-0a1c-4040-f124-3199382ee9b3"
      },
      "outputs": [
        {
          "name": "stdout",
          "output_type": "stream",
          "text": [
            "Escreva o ano:2024\n"
          ]
        },
        {
          "data": {
            "text/plain": [
              "int"
            ]
          },
          "execution_count": 6,
          "metadata": {},
          "output_type": "execute_result"
        }
      ],
      "source": [
        "ano_entrada2 = int(input('Escreva o ano:'))#para converter para inteiro vc usa a função int() nesse caso a função int() ficou com a função input('') td detro dela e tudo isso sendo colocado dentro de uma variável\n",
        "# veja: variável = int(input(''))\n",
        "type(ano_entrada2)"
      ]
    },
    {
      "cell_type": "code",
      "execution_count": null,
      "metadata": {
        "colab": {
          "base_uri": "https://localhost:8080/"
        },
        "id": "6NI7tFF4-Imt",
        "outputId": "e86bdbaf-f8f0-4cf9-8cf2-578277367c2e"
      },
      "outputs": [
        {
          "name": "stdout",
          "output_type": "stream",
          "text": [
            "Nota de Entrada:5.56\n"
          ]
        }
      ],
      "source": [
        "nota_entrada = float(input('Nota de Entrada:'))"
      ]
    },
    {
      "cell_type": "code",
      "execution_count": null,
      "metadata": {
        "colab": {
          "base_uri": "https://localhost:8080/"
        },
        "id": "1MwplVCF9mlV",
        "outputId": "78322fb6-e204-461d-bd0c-eacb713aa62c"
      },
      "outputs": [
        {
          "name": "stdout",
          "output_type": "stream",
          "text": [
            "Escreva o ano:2024\n",
            "Nota de Entrada:8.5\n",
            "Ano de Entrada: 2024 - Nota do teste de ingresso: 8.5\n"
          ]
        }
      ],
      "source": [
        "#também dá para formatar e exibir bonitinho:\n",
        "#print(f'qualquer texto{variavel desejada}') O f formata e tudo vem aqui para dentro inclusive as variáveis se vc add {}\n",
        "ano_entrada2 = int(input('Escreva o ano:'))\n",
        "nota_entrada = float(input('Nota de Entrada:'))\n",
        "print(f'Ano de Entrada: {ano_entrada2} - Nota do teste de ingresso: {nota_entrada}') # dentro desses ' vc pode colocar a variavel que quiser sem %s,%d... e td isso junto com o texto. A função f vai para dentro da função print"
      ]
    },
    {
      "cell_type": "code",
      "execution_count": null,
      "metadata": {
        "colab": {
          "base_uri": "https://localhost:8080/"
        },
        "id": "_YqSzmdM-SNU",
        "outputId": "886a0020-bb5c-4d4a-dc25-bdb070dfa35d"
      },
      "outputs": [
        {
          "name": "stdout",
          "output_type": "stream",
          "text": [
            "Nome do aluno: Fabricio Daniel\n"
          ]
        }
      ],
      "source": [
        "nome_aluno = 'Fabricio Daniel' #Aqui tem outra opção de add as variáveis vc digita %s para criar o espaço para ela no texto dps add%(variavel para chamar ela) Como se fosse um apêndice da função print\n",
        "\n",
        "print('Nome do aluno: %s' %(nome_aluno))"
      ]
    },
    {
      "cell_type": "code",
      "execution_count": null,
      "metadata": {
        "colab": {
          "base_uri": "https://localhost:8080/"
        },
        "id": "l-OWKM4m_gWM",
        "outputId": "685c468d-070d-4f75-a0b0-9696c0819683"
      },
      "outputs": [
        {
          "name": "stdout",
          "output_type": "stream",
          "text": [
            "Nome do aluno é Fabricio Daniel, ele tem 15 anos e sua média é 8.450000.\n",
            "Nome do aluno é Fabricio Daniel, ele tem 15 anos e sua média é 8.45.\n"
          ]
        }
      ],
      "source": [
        "nome_aluno = 'Fabricio Daniel'\n",
        "idade_aluno = 15\n",
        "media_aluno = 8.45\n",
        "\n",
        "print('Nome do aluno é %s, ele tem %d anos e sua média é %f.' %(nome_aluno, idade_aluno, media_aluno))\n",
        "print('Nome do aluno é %s, ele tem %d anos e sua média é %.2f.' %(nome_aluno, idade_aluno, media_aluno)) # O.2f determina que vc quer que ele traga duas casas decimais"
      ]
    },
    {
      "cell_type": "code",
      "execution_count": null,
      "metadata": {
        "colab": {
          "base_uri": "https://localhost:8080/"
        },
        "id": "AIR4N_NvFzz5",
        "outputId": "6cfa0fc1-08da-4580-ec6b-8746984663cd"
      },
      "outputs": [
        {
          "name": "stdout",
          "output_type": "stream",
          "text": [
            "Nome do aluno: Fabricio Daniel\n"
          ]
        }
      ],
      "source": [
        "nome_aluno = 'Fabricio Daniel'\n",
        "\n",
        "print('Nome do aluno: {}'.format(nome_aluno)) # o .format no fim é um .f na frente piorado pq dps vc precisa colocar . format(variaveis, aqui)\n"
      ]
    },
    {
      "cell_type": "code",
      "execution_count": null,
      "metadata": {
        "colab": {
          "base_uri": "https://localhost:8080/"
        },
        "id": "gqr-VFYCHTzR",
        "outputId": "3526f3cd-61f2-4cdb-e16c-306450dfa4cb"
      },
      "outputs": [
        {
          "name": "stdout",
          "output_type": "stream",
          "text": [
            "Nome do aluno é Fabricio Daniel, ele tem 15 anos e sua média é 8.45.\n"
          ]
        }
      ],
      "source": [
        "nome_aluno = 'Fabricio Daniel'\n",
        "idade_aluno = 15\n",
        "media_aluno = 8.45\n",
        "\n",
        "print('Nome do aluno é {}, ele tem {} anos e sua média é {}.' .format(nome_aluno, idade_aluno, media_aluno))"
      ]
    },
    {
      "cell_type": "code",
      "execution_count": null,
      "metadata": {
        "colab": {
          "base_uri": "https://localhost:8080/"
        },
        "id": "lu0ZViljSG0u",
        "outputId": "784b77f0-bebd-4648-9024-7d0d0fe4f884"
      },
      "outputs": [
        {
          "name": "stdout",
          "output_type": "stream",
          "text": [
            "Sofia é um cachorrinho lindo = True\n"
          ]
        }
      ],
      "source": [
        "#O % não funciona para booleano, é preciso converter\n",
        "Cachorrinho = True\n",
        "print('Sofia é um cachorrinho lindo = %s' %str(Cachorrinho))"
      ]
    },
    {
      "cell_type": "code",
      "execution_count": null,
      "metadata": {
        "colab": {
          "base_uri": "https://localhost:8080/"
        },
        "id": "Idk4JKLQUn6V",
        "outputId": "b3e2807f-86f3-40ef-e3e0-427cae9f7654"
      },
      "outputs": [
        {
          "name": "stdout",
          "output_type": "stream",
          "text": [
            "Provando que o f é a melhor opção\n"
          ]
        }
      ],
      "source": [
        "# concluí que a melhor opção é f\n",
        "teste333 = 'melhor opção'\n",
        "print(f'Provando que o f é a {teste333}') #Coloca o f na frente para avisar que vai colocar variáveis e dps só {variavel} td dentro do '' O único que fica fora é o f\n"
      ]
    },
    {
      "cell_type": "code",
      "execution_count": null,
      "metadata": {
        "colab": {
          "base_uri": "https://localhost:8080/"
        },
        "id": "uDz4kIdQVuFd",
        "outputId": "87e3a2f5-8ee3-492a-b5c9-ddc1a07ff139"
      },
      "outputs": [
        {
          "name": "stdout",
          "output_type": "stream",
          "text": [
            "nome:a\n",
            "nome s:s\n",
            "idade:5\n",
            "nome s:s\n",
            "idade: 6\n",
            "Olá,s, você tem 6 anos\n",
            "Digite seu nome:t\n",
            "Digite sua idade:5\n",
            "Digite sua altura:565\n",
            "Olá t, você tem 5 e mede 565!\n"
          ]
        }
      ],
      "source": [
        "#1. Crie um programa que solicite à pessoa usuária digitar seu nome, e imprima “Olá, [nome]!”.\n",
        "input('nome:')\n",
        "\n",
        "#2.Crie um programa que solicite à pessoa usuária digitar seu nome e idade, e imprima “Olá, [nome], você tem [idade] anos.”.\n",
        "input('nome s:')\n",
        "int(input('idade:'))  #Errou, o input vai para dentro da função int e não o contrário\n",
        "#Ele até imprime o que vc digitou isolado, mas para exibir o input \"livremente\" ele precisa sair de uma variável\n",
        "nome2 = input('nome s:')\n",
        "idade2 = int(input('idade: '))\n",
        "print(f'Olá,{nome2}, você tem {idade2} anos')\n",
        "\n",
        "\n",
        "#3.Crie um programa que solicite à pessoa usuária digitar seu nome, idade e altura em metros, e imprima “Olá, [nome], você tem [idade] anos e mede [altura] metros!”.\"\"\"\n",
        "primeiro_nome = input('Digite seu nome:')\n",
        "idade_em_anos = int(input('Digite sua idade:'))\n",
        "altura_em_metros = int(input('Digite sua altura:'))\n",
        "\n",
        "print(f'Olá {primeiro_nome}, você tem {idade_em_anos} e mede {altura_em_metros}!')\n",
        "\n"
      ]
    },
    {
      "cell_type": "code",
      "execution_count": null,
      "metadata": {
        "colab": {
          "base_uri": "https://localhost:8080/"
        },
        "id": "xKUWIWH1vPjH",
        "outputId": "bd4644d4-f70e-4d44-adc6-1c769253fbd5"
      },
      "outputs": [
        {
          "name": "stdout",
          "output_type": "stream",
          "text": [
            "Primeiro valor:2\n",
            "Primeiro valor:2\n",
            "Soma:4\n"
          ]
        }
      ],
      "source": [
        "#Crie um programa que solicite dois valores numéricos à pessoa usuária e imprima a soma dos dois valores:\n",
        "valor1 = int(input('Primeiro valor:'))\n",
        "valor2 = int(input('Primeiro valor:'))\n",
        "print(f'Soma:{valor1 + valor2}') #Para operar com os números vc coloca tds dentro do mesmo {}"
      ]
    },
    {
      "cell_type": "code",
      "execution_count": null,
      "metadata": {
        "colab": {
          "base_uri": "https://localhost:8080/"
        },
        "id": "aJKrmtPswEOP",
        "outputId": "cb4dc79f-e6a3-4aeb-c7df-c6b5f7608ed0"
      },
      "outputs": [
        {
          "name": "stdout",
          "output_type": "stream",
          "text": [
            "Digite um valor:2\n",
            "Digite um valor:2\n",
            "Digite um valor:2\n",
            "6\n"
          ]
        }
      ],
      "source": [
        "#Crie um programa que solicite três valores numéricos à pessoa usuária e imprima a soma dos três valores.\n",
        "valora=int(input('Digite um valor:'))\n",
        "valorb=int(input('Digite um valor:')) #importante lembrar do int para transformar\n",
        "valorc=int(input('Digite um valor:'))\n",
        "print(f'{valora+valorb+valorc}')"
      ]
    },
    {
      "cell_type": "code",
      "execution_count": null,
      "metadata": {
        "colab": {
          "base_uri": "https://localhost:8080/"
        },
        "id": "yMrvKEznwm3_",
        "outputId": "167ee856-b1df-47ba-dfd8-aedfbeab0187"
      },
      "outputs": [
        {
          "name": "stdout",
          "output_type": "stream",
          "text": [
            "Primeiro valor:2\n",
            "Segundo valor:2\n",
            "Subtração:0\n"
          ]
        }
      ],
      "source": [
        "#Crie um programa que solicite dois valores numéricos à pessoa usuária e imprima a subtração do primeiro pelo o segundo valor.\n",
        "valor1 = int(input('Primeiro valor:'))\n",
        "valor2 = int(input('Segundo valor:'))\n",
        "print(f'Subtração:{valor1 - valor2}') #Para operar com os números vc coloca tds dentro do mesmo {}"
      ]
    },
    {
      "cell_type": "code",
      "execution_count": null,
      "metadata": {
        "colab": {
          "base_uri": "https://localhost:8080/"
        },
        "id": "yRvZtHJtyFUv",
        "outputId": "475cabcd-c7d4-4ff9-ba62-2cf8bc73412e"
      },
      "outputs": [
        {
          "name": "stdout",
          "output_type": "stream",
          "text": [
            "Digite:2\n",
            "Digite2\n",
            "Resultado da multiplicação:4\n"
          ]
        }
      ],
      "source": [
        "#Crie um programa que solicite dois valores numéricos à pessoa usuária e imprima a multiplicação dos dois valores.\n",
        "valor_um = int(input('Digite:'))\n",
        "valor_dois = int(input('Digite'))\n",
        "print(f'Resultado da multiplicação:{valor_um * valor_dois}')\n"
      ]
    },
    {
      "cell_type": "code",
      "execution_count": null,
      "metadata": {
        "colab": {
          "base_uri": "https://localhost:8080/"
        },
        "id": "FZpyCQfwzu_d",
        "outputId": "405f2989-3e2e-412a-bdf7-16dd1f81df29"
      },
      "outputs": [
        {
          "name": "stdout",
          "output_type": "stream",
          "text": [
            "Digite o numerador: 6\n",
            "Digite o denominador diferente de zero: 2\n",
            "Resultado:3.0\n"
          ]
        }
      ],
      "source": [
        "#Crie um programa que solicite dois valores numéricos, um numerador e um denominador,\n",
        "# e realize a divisão entre os dois valores. Deixe claro que o valor do denominador não pode ser 0.\n",
        "valordo_numerador = int(input('Digite o numerador: '))#Adiciona os dois pontos e o espaço para ficar melhor\n",
        "valor_do_denominador = int(input('Digite o denominador diferente de zero: ')) #Na resolução do exercício ela não mostra como criar a restrição apenas pede para o usuário\n",
        "print(f'Resultado:{valordo_numerador/valor_do_denominador}')\n"
      ]
    },
    {
      "cell_type": "markdown",
      "metadata": {
        "id": "7z7hcLCk_aCY"
      },
      "source": [
        "2O retorno desse comando sempre será uma *string*. Isso quer dizer que mesmo que façamos uma coleta de algo que deva ser numérico, ele será uma string.\n",
        "\n",
        "Então, será preciso **converter o resultado caso não seja desejável obter uma string**."
      ]
    },
    {
      "cell_type": "code",
      "execution_count": null,
      "metadata": {
        "colab": {
          "base_uri": "https://localhost:8080/"
        },
        "id": "rq79iwfp07q1",
        "outputId": "13f2bd19-6959-45f3-f79e-32348686b781"
      },
      "outputs": [
        {
          "name": "stdout",
          "output_type": "stream",
          "text": [
            "Digite a base: 2\n",
            "Digite o expoente:2\n",
            "4\n"
          ]
        }
      ],
      "source": [
        "#Crie um programa que solicite dois valores numéricos, um operador e uma potência, e realize a exponenciação entre esses dois valores.\n",
        "valor_de_base = int(input('Digite a base: '))\n",
        "valor_do_expoente = int(input('Digite o expoente:'))\n",
        "valor_fim = valor_de_base ** valor_do_expoente #Posso fazer operações dentro da variável e depois só apresentar o resultado\n",
        "print(f'{valor_fim}')"
      ]
    },
    {
      "cell_type": "code",
      "execution_count": null,
      "metadata": {
        "colab": {
          "base_uri": "https://localhost:8080/"
        },
        "id": "MtwBMOQY2FAl",
        "outputId": "20d129f6-e71a-4466-966e-ec2e582f89cd"
      },
      "outputs": [
        {
          "name": "stdout",
          "output_type": "stream",
          "text": [
            "Digite o numerador: 30\n",
            "Digite o denominador diferente de zero: 4\n",
            "Resultado:2\n"
          ]
        }
      ],
      "source": [
        "#Crie um programa que solicite dois valores numéricos, um numerador e um denominador e realize\n",
        "#a divisão inteira entre os dois valores. Deixe claro que o valor do denominador não pode ser 0.\n",
        "valordo_numerador = int(input('Digite o numerador: '))#Adiciona os dois pontos e o espaço para ficar melhor\n",
        "valor_do_denominador = int(input('Digite o denominador diferente de zero: ')) #Na resolução do exercício ela não mostra como criar a restrição apenas pede para o usuário\n",
        "print(f'Resultado:{valordo_numerador%valor_do_denominador}')\n"
      ]
    },
    {
      "cell_type": "code",
      "execution_count": null,
      "metadata": {
        "colab": {
          "base_uri": "https://localhost:8080/"
        },
        "id": "VUBX_Yk843Zj",
        "outputId": "8c5c999a-c8f4-473d-b2d3-4677b586f69c"
      },
      "outputs": [
        {
          "name": "stdout",
          "output_type": "stream",
          "text": [
            "Digite a nota: 1\n",
            "Digite a nota: 1\n",
            "Digite a nota: 1\n",
            "Média é: 1.0\n"
          ]
        }
      ],
      "source": [
        "#Crie um código que solicita 3 notas de um estudante e imprima a média das notas.\n",
        "nota1 = int(input('Digite a nota: '))\n",
        "nota2 = int(input('Digite a nota: '))\n",
        "nota3 = int(input('Digite a nota: '))\n",
        "print(f'Média é: {(nota1+nota2+nota3)/3}')"
      ]
    },
    {
      "cell_type": "code",
      "execution_count": null,
      "metadata": {
        "colab": {
          "base_uri": "https://localhost:8080/"
        },
        "id": "ZZtuMmmf7582",
        "outputId": "872aff7d-55fc-4291-ac65-76bf9576741c"
      },
      "outputs": [
        {
          "name": "stdout",
          "output_type": "stream",
          "text": [
            "14.9\n"
          ]
        }
      ],
      "source": [
        "#Crie um código que calcule e imprima a média ponderada dos números 5, 12, 20 e 15 com pesos respectivamente iguais a 1, 2, 3 e 4.\n",
        "num1 = 5\n",
        "num2 = 12\n",
        "num3 = 20\n",
        "num4 = 15\n",
        "print(f'{(num1*1+num2*2+num3*3+num4*4)/(1+2+3+4)}')\n"
      ]
    },
    {
      "cell_type": "code",
      "source": [],
      "metadata": {
        "id": "ogLFAoKuAGRP"
      },
      "execution_count": null,
      "outputs": []
    },
    {
      "cell_type": "markdown",
      "metadata": {
        "id": "TOlegATj1Jfp"
      },
      "source": [
        "2Existem funções para conversão de valores:\n",
        "\n",
        "- Inteiros: [`int(dado_para_conversao)`](https://docs.python.org/3/library/functions.html#int)\n",
        "- Float: [`float(dado_para_conversao)`](https://docs.python.org/3/library/functions.html#float)\n",
        "- String: [`str(dado_para_conversao)`](https://docs.python.org/3/library/functions.html#func-str)\n",
        "- Booleano: [`bool(dado_para_conversao)`](https://docs.python.org/3/library/functions.html#bool)"
      ]
    },
    {
      "cell_type": "markdown",
      "metadata": {
        "id": "yNI2-XTbB3aS"
      },
      "source": [
        "Buscaremos apresentar melhor agora o resultado que obtivemos da transformação. Nós conseguimos formatar e apresentar o nosso resultado misturando strings com valores não textuais.\n",
        "\n",
        "Para fazer isso usamos a estrutura de formatação `f` com strings."
      ]
    },
    {
      "cell_type": "markdown",
      "metadata": {
        "id": "0PIDsO8A9Koq"
      },
      "source": [
        "#Crie uma variável chamada “frase” e atribua a ela uma string de sua escolha. Em seguida, imprima a frase na tela.\n",
        "frase = 'oi meu amor!'\n",
        "print(frase)"
      ]
    },
    {
      "cell_type": "code",
      "execution_count": null,
      "metadata": {
        "colab": {
          "base_uri": "https://localhost:8080/"
        },
        "id": "8UW5PZLJ-0Ew",
        "outputId": "61dfa129-5b2d-4958-f6b9-3ae021c21398"
      },
      "outputs": [
        {
          "name": "stdout",
          "output_type": "stream",
          "text": [
            "Digite uma frase: Teste de frase\n",
            "Teste de frase\n"
          ]
        }
      ],
      "source": [
        "#Crie um código que solicite uma frase e depois imprima a frase na tela.\n",
        "frase = input('Digite uma frase: ')\n",
        "print(frase)"
      ]
    },
    {
      "cell_type": "code",
      "execution_count": null,
      "metadata": {
        "colab": {
          "base_uri": "https://localhost:8080/"
        },
        "id": "Kfa6FLvg_F24",
        "outputId": "e1599e61-5109-4ed7-e157-c4138373246f"
      },
      "outputs": [
        {
          "name": "stdout",
          "output_type": "stream",
          "text": [
            "Digite uma frase: Dizer assim que o amor é azulzinho\n",
            "DIZER ASSIM QUE O AMOR É AZULZINHO\n"
          ]
        }
      ],
      "source": [
        "#Crie um código que solicite uma frase à pessoa usuária e imprima a mesma frase digitada mas com todas as letras maiúsculas. Para isso vc pode usar as propriedades da variável e exibir com . o que vc quer no caso upper\n",
        "frase = input('Digite uma frase: ')\n",
        "print(frase.upper()) # Poderia colocar .o que eu quizesse infinitamente"
      ]
    },
    {
      "cell_type": "code",
      "execution_count": null,
      "metadata": {
        "colab": {
          "base_uri": "https://localhost:8080/"
        },
        "id": "Y4bM4PDu_1VS",
        "outputId": "7c6f1c61-660a-4196-e3e5-ada5eabb4322"
      },
      "outputs": [
        {
          "name": "stdout",
          "output_type": "stream",
          "text": [
            "Digite uma frase: AMARELINHO\n",
            "amarelinho\n"
          ]
        }
      ],
      "source": [
        "#Crie um código que solicite uma frase à pessoa usuária e imprima a mesma frase digitada mas com todas as letras minúsculas.\n",
        "frase = input('Digite uma frase: ')\n",
        "print(frase.lower())"
      ]
    },
    {
      "cell_type": "code",
      "execution_count": null,
      "metadata": {
        "colab": {
          "background_save": true
        },
        "id": "B7aaQEniAMmP",
        "outputId": "76ea4171-3bf5-43bb-ae62-9b273979233b"
      },
      "outputs": [
        {
          "name": "stdout",
          "output_type": "stream",
          "text": [
            "h   Pode já atribuir  h\n",
            "h   Pode já atribuir  h\n"
          ]
        }
      ],
      "source": [
        "#Crie uma variável chamada “frase” e atribua a ela uma string de sua escolha. Em seguida, imprima a frase sem espaços em branco no início e no fim.\n",
        "frase = 'h   Pode já atribuir  h'\n",
        "print(frase)\n",
        "print(frase.strip()) #O gabarito diz que removeu..."
      ]
    },
    {
      "cell_type": "code",
      "execution_count": null,
      "metadata": {
        "colab": {
          "base_uri": "https://localhost:8080/"
        },
        "id": "4s080SOwAx14",
        "outputId": "b7c78598-f84a-4abd-e95f-7cffd2a17aea"
      },
      "outputs": [
        {
          "name": "stdout",
          "output_type": "stream",
          "text": [
            "h Olá Python!\n"
          ]
        }
      ],
      "source": [
        "frase = 'h Olá Python!  '\n",
        "print(frase.strip())"
      ]
    },
    {
      "cell_type": "code",
      "source": [
        "#Crie um código que solicite uma frase à pessoa usuária e imprima a mesma frase sem espaços em branco no início e no fim e em letras minúsculas.\n",
        "frase = input('Digite uma frase ')\n",
        "print(frase.strip().lower())"
      ],
      "metadata": {
        "colab": {
          "base_uri": "https://localhost:8080/"
        },
        "id": "iQyNngV1ALF9",
        "outputId": "41eae471-7fad-44a5-dc20-0f8fcca4476b"
      },
      "execution_count": null,
      "outputs": [
        {
          "output_type": "stream",
          "name": "stdout",
          "text": [
            "Digite uma fraseABACATEIRO\n",
            "abacateiro\n"
          ]
        }
      ]
    },
    {
      "cell_type": "code",
      "source": [
        "#Crie um código que solicite uma frase à pessoa usuária e imprima a mesma frase com todas as vogais “e” trocadas pela letra “f”.\n",
        "frase = input('Digite palavra com e ')\n",
        "print(frase.replace('e','f').replace('E','f')) # se vc replace o e minusculo ele só pega o e minusculo para pegar os outros vc tem que ir colocando o . replace"
      ],
      "metadata": {
        "colab": {
          "base_uri": "https://localhost:8080/"
        },
        "id": "2MHPEheWAvgU",
        "outputId": "b5b251a4-76fb-4e82-87a2-25f6b86d8695"
      },
      "execution_count": null,
      "outputs": [
        {
          "output_type": "stream",
          "name": "stdout",
          "text": [
            "Digite palavra com e Elefante\n",
            "flffantf\n"
          ]
        }
      ]
    },
    {
      "cell_type": "code",
      "source": [
        "#Crie um código que solicite uma frase à pessoa usuária e imprima a mesma frase com todas as vogais “a” trocadas pela caractere “@”.\n",
        "amanda = input('Digite uma frase com a: ')\n",
        "print(amanda.replace('a','@'))"
      ],
      "metadata": {
        "colab": {
          "base_uri": "https://localhost:8080/"
        },
        "id": "iBDyeQp-BuLH",
        "outputId": "c39d57b2-d8c9-4dfe-854a-0bcb70a738cb"
      },
      "execution_count": null,
      "outputs": [
        {
          "output_type": "stream",
          "name": "stdout",
          "text": [
            "Digite uma frase com a: amanda\n",
            "@m@nd@\n"
          ]
        }
      ]
    },
    {
      "cell_type": "code",
      "source": [
        "#Crie um código que solicite uma frase à pessoa usuária e imprima a mesma frase com todas as consoantes “s” trocadas pelo caractere “$”\n",
        "sansara = input('Digite com s: ')\n",
        "print(sansara.replace('s','$'))"
      ],
      "metadata": {
        "colab": {
          "base_uri": "https://localhost:8080/"
        },
        "id": "Of8zsRrWBz0n",
        "outputId": "cb6da319-5813-4742-a2ac-23437d15bf7b"
      },
      "execution_count": null,
      "outputs": [
        {
          "output_type": "stream",
          "name": "stdout",
          "text": [
            "Digite com s: sansara\n",
            "$an$ara\n"
          ]
        }
      ]
    },
    {
      "cell_type": "markdown",
      "metadata": {
        "id": "NwRaiHHHhhyl"
      },
      "source": [
        "# Estruturas condicionais"
      ]
    },
    {
      "cell_type": "markdown",
      "metadata": {
        "id": "qXZqg9aYEhAh"
      },
      "source": [
        "## `IF` e `ELSE`\n",
        "\n",
        "O `if` e `else` são duas estruturas condicionais. O `if` executará o bloco de comando caso a condição colocada for **verdadeira**. O `else` é um caso em que a condicional de `if` seja **falsa**."
      ]
    },
    {
      "cell_type": "markdown",
      "metadata": {
        "id": "EIhlqHXd2Gil"
      },
      "source": [
        "O `if` é uma palavra-chave em Python que significa \"se\". Ele é usado para formar uma estrutura condicional, que permite que você verifique se uma determinada condição é verdadeira ou falsa e, em seguida, execute um bloco de código específico dependendo do resultado da verificação. A sintaxe para usar o `if` é:\n",
        "\n",
        "\n",
        "\n",
        "```\n",
        "if condição:\n",
        "    # faça algo\n",
        "```\n",
        "\n"
      ]
    },
    {
      "cell_type": "code",
      "execution_count": null,
      "metadata": {
        "id": "tKtzkTXW4j73",
        "colab": {
          "base_uri": "https://localhost:8080/"
        },
        "outputId": "9325213b-499a-46c9-bae2-002e9c2b70dd"
      },
      "outputs": [
        {
          "output_type": "stream",
          "name": "stdout",
          "text": [
            "executou\n"
          ]
        }
      ],
      "source": [
        "if 5<2:\n",
        "print('verdade') #é importante dar espaço aqui pq quando não dá ele executa mesmo a informação sendo falsa\n",
        "print('executou') #O else precisa do if mas o if n precisa do else"
      ]
    },
    {
      "cell_type": "markdown",
      "metadata": {
        "id": "27RW2v_sIKct"
      },
      "source": [
        "Já o `else` em Python é usada em conjunto com a palavra-chave `if` para formar uma estrutura condicional. A sintaxe para usar o `else` é:\n",
        "\n",
        "```\n",
        "if condição:\n",
        "  # código caso seja verdade\n",
        "else:\n",
        "  # código caso seja falso\n",
        "```\n",
        "\n",
        "O `else` é executado quando a condição verificada pelo `if` é avaliada como `False`."
      ]
    },
    {
      "cell_type": "code",
      "source": [
        "#Diferente do javascript aqui o else não tem uma condição para ser exibido\n",
        "#tbm nada impede a vinculação de variáveis nesses ifs e elses\n",
        "idade_da_anna = int(input('Digite a idade: '))\n",
        "idade_da_sofia = int(input('Digite a idade: '))\n",
        "if idade_da_sofia > idade_da_anna: #no if vc opera com a variável sem contenção ele entnde com e sem espaço\n",
        "  print('Sofia ganhou')\n",
        "else:\n",
        "  print('Anna ganhou')"
      ],
      "metadata": {
        "colab": {
          "base_uri": "https://localhost:8080/"
        },
        "id": "bitF1B52OpUp",
        "outputId": "cb01eb49-9a67-4b06-cf77-a90f80f3d532"
      },
      "execution_count": null,
      "outputs": [
        {
          "output_type": "stream",
          "name": "stdout",
          "text": [
            "Digite a idade: 2\n",
            "Digite a idade: 8\n",
            "Sofia ganhou\n"
          ]
        }
      ]
    },
    {
      "cell_type": "code",
      "source": [
        "#Para ver se algo é igual usa 2x == e se algo é diferente !=. Para .= e <= maior ou igual e menor ou igual\n",
        "teste1 = 6\n",
        "teste2 = 55\n",
        "if teste1 == teste2:\n",
        "  print('igual')\n",
        "else:\n",
        "  print('diferente')\n",
        "#parei no 3 o q é else"
      ],
      "metadata": {
        "colab": {
          "base_uri": "https://localhost:8080/"
        },
        "id": "PH15OxxKQMn4",
        "outputId": "85b28d8d-4cc3-4da4-827c-4bf1959d2c8d"
      },
      "execution_count": null,
      "outputs": [
        {
          "output_type": "stream",
          "name": "stdout",
          "text": [
            "diferente\n"
          ]
        }
      ]
    },
    {
      "cell_type": "markdown",
      "metadata": {
        "id": "BqORg85XX-Nl"
      },
      "source": [
        "---\n",
        "**Situação:**\n",
        "\n",
        "Receberemos a média de estudantes e precisamos de um algoritmo que execute a análise e decida se esse estudante está **Aprovado** ou Reprovado, mostrando uma mensagem do resultado. Para ser aprovado, a média precisa ser igual ou superior à 6.0."
      ]
    },
    {
      "cell_type": "code",
      "execution_count": null,
      "metadata": {
        "id": "yaR8bt1P4iCv"
      },
      "outputs": [],
      "source": [
        "media = float(input('Digite a média: ')) #transformou para float pq eu vou usar a media aqui\n",
        "if media >= 6.0:\n",
        " print('aprovado')\n",
        "else:\n",
        "  print('reprovado')"
      ]
    },
    {
      "cell_type": "markdown",
      "metadata": {
        "id": "bD9O17HB6LUo"
      },
      "source": [
        "Agora a nossa instituição de ensino lançou uma nota oficial que pessoas que tenham média entre 4.0 e 6.0 podem fazer os cursos de **Recuperação** nas férias para poder recuperar a nota.\n",
        "\n",
        "Então podemos agora fazer um conjunto de `if`s para que possamos estruturar essa nova condição."
      ]
    },
    {
      "cell_type": "code",
      "execution_count": null,
      "metadata": {
        "id": "Rkde8bai4gvq",
        "colab": {
          "base_uri": "https://localhost:8080/"
        },
        "outputId": "905ab78e-cd1c-43ec-95ee-a563b5987e29"
      },
      "outputs": [
        {
          "output_type": "stream",
          "name": "stdout",
          "text": [
            "Digite a média: 6\n",
            "aprovado\n"
          ]
        }
      ],
      "source": [
        "media = float(input('Digite a média: ')) #A ideia é colocar ifs em cascata e ter em mente que não precisa necessariamente do else. Mas o else precisa do if\n",
        "if media >=6:\n",
        "  print('aprovado')\n",
        "if 4<media<6:\n",
        "  print('recuperação') #Vc pode usar a variável dentro da condição do if\n",
        "if media<4:\n",
        "  print('reprovado')\n",
        "\n"
      ]
    },
    {
      "cell_type": "markdown",
      "metadata": {
        "id": "D5e2mByjvycO"
      },
      "source": [
        "Notemos que em casos com 3 situações como esse precisamos definir bem nossas condições. Pois foi feita uma construção com `else` no final, ele irá considerar apenas a alguma condicional para ser o caso **falso** podendo resultar em duas (ou mais) execuções.\n",
        "\n",
        "Por exemplo:"
      ]
    },
    {
      "cell_type": "code",
      "execution_count": null,
      "metadata": {
        "id": "tKvjzq414fAN",
        "colab": {
          "base_uri": "https://localhost:8080/"
        },
        "outputId": "315a3d93-04ea-461e-8dee-14b4cf2aaff3"
      },
      "outputs": [
        {
          "output_type": "stream",
          "name": "stdout",
          "text": [
            "Digite a média: 6\n",
            "reprovado\n"
          ]
        }
      ],
      "source": [
        "media2 = float(input('Digite a média: '))\n",
        "if media2>6:\n",
        "  print('aprovado')\n",
        "if 4<media2<6:\n",
        "  print('recuperação')\n",
        "else:   #não pode colocar esse else no fim pq ele vai se ligar somente ao último if. Para evitar mts ifs podemos usar o elif\n",
        "  print('reprovado')"
      ]
    },
    {
      "cell_type": "markdown",
      "metadata": {
        "id": "04T5g-7h4zWx"
      },
      "source": [
        "## `ELIF`\n",
        "\n",
        "O `elif` é uma palavra-chave em Python que significa \"senão, se\" e pode ser considerado uma união do `else` com um `if`. Ela é usada em conjunto com a palavra-chave `if` para formar uma estrutura condicional encadeada.\n",
        "\n"
      ]
    },
    {
      "cell_type": "markdown",
      "metadata": {
        "id": "rNBHr5mm1Lm6"
      },
      "source": [
        "A sintaxe para usar o `elif` é:\n",
        "\n",
        "```\n",
        "if condição1:\n",
        "    # faça algo\n",
        "elif condição2:\n",
        "    # faça outra coisa\n",
        "elif condição3:\n",
        "    # faça mais alguma coisa\n",
        "else:\n",
        "    # faça algo diferente\n",
        "```\n",
        "\n",
        "O `elif` permite que você verifique várias condições de forma encadeada, economizando espaço em seu código. Se a primeira condição for avaliada como `False`, o interpretador Python avaliará a próxima condição no `elif`. Isso continuará até que uma condição seja avaliada como `True` ou até que o `else` seja atingido. Se nenhuma das condições forem avaliadas como `True`, a execução do código do `else` será iniciada."
      ]
    },
    {
      "cell_type": "markdown",
      "metadata": {
        "id": "MVoykFbB4bd4"
      },
      "source": [
        "Vamos usar o mesmo caso anterior:"
      ]
    },
    {
      "cell_type": "code",
      "execution_count": null,
      "metadata": {
        "id": "UJCHKoX54dc2",
        "colab": {
          "base_uri": "https://localhost:8080/"
        },
        "outputId": "905ab96b-77ab-4a4b-f7ea-9c7be29bd219"
      },
      "outputs": [
        {
          "output_type": "stream",
          "name": "stdout",
          "text": [
            "Digite a média: 9\n",
            "aprovado\n"
          ]
        }
      ],
      "source": [
        "media = float(input('Digite a média: ')) #Elif executa o bloco abaixo caso a condição superior seja falsa. Assim vc evita o erro. O elif como else precisa do if. O elif fica no meio do else\n",
        "if media >=6:\n",
        "  print('aprovado')\n",
        "elif media ==2:\n",
        " print('número 2')\n",
        "elif media ==3:turno == 'Manhã':\n",
        "  print ('Bd')\n",
        "  print('número 3')\n",
        "elif media==4:\n",
        "  print('número 4')\n",
        "else :\n",
        "  print('não corresponde a nenhum valor esperado')\n"
      ]
    },
    {
      "cell_type": "markdown",
      "metadata": {
        "id": "Tf1wSOem6iwZ"
      },
      "source": [
        "## Operadores\n",
        "\n",
        "Durante a construção de comandos por vezes precisamos de uma elaboração maior de da expressão condicional, necessitando que alguns operadores lógicos estejam integrados."
      ]
    },
    {
      "cell_type": "code",
      "source": [
        "a = float(input('Digite a: '))\n",
        "b = float(input('Digite b: '))\n",
        "c = float(input('Digite c: '))\n",
        "if a+b > c or a+c> b or b+c>a:\n",
        "  print('é um triângulo')\n",
        "  if a == b == c:\n",
        "    print('equilátero')\n",
        "  elif a == b or a == c or b == c:\n",
        "    print('isósceles')\n",
        "  else:\n",
        "    print('escaleno')\n",
        "else:\n",
        "  print('não é um triângulo')"
      ],
      "metadata": {
        "colab": {
          "base_uri": "https://localhost:8080/"
        },
        "id": "as3v7KuwMaKY",
        "outputId": "6e474533-d23f-41b9-db77-b7c6548f513c"
      },
      "execution_count": null,
      "outputs": [
        {
          "output_type": "stream",
          "name": "stdout",
          "text": [
            "Digite a: 1\n",
            "Digite b: 3\n",
            "Digite c: 3\n",
            "é um triângulo\n",
            "isósceles\n"
          ]
        }
      ]
    },
    {
      "cell_type": "markdown",
      "metadata": {
        "id": "GFIZnRWXGPWO"
      },
      "source": [
        "### `AND`, `OR`, `NOT`\n",
        "\n",
        "Os operadores lógicos `and`, `or` e `not` são usados para combinar expressões lógicas em Python. Eles são usados frequentemente em conjunto com o `if` para criar estruturas condicionais mais complexas.\n"
      ]
    },
    {
      "cell_type": "markdown",
      "metadata": {
        "id": "Z_dgAoHXJbzB"
      },
      "source": [
        "- `AND` é usado para verificar se duas condições são verdadeiras. A expressão lógica¹ `x and y` é avaliada como `True` apenas se **ambas as condições `x` e `y` forem verdadeiras**, e como `False` caso contrário.\n",
        "\n",
        "- `OR` é usado para verificar se pelo menos uma das condições é verdadeira. A expressão lógica `x or y` é avaliada como `True` **se pelo menos uma das condições `x` ou `y` for verdadeira**, e como `False` se ambas forem falsas.\n",
        "\n",
        "- `NOT` é usado para **negar uma condição**. A expressão lógica not x é avaliada como True se a condição x for falsa, e como False se a condição x for verdadeira.\n",
        "\n",
        "¹ Uma expressão lógica é uma declaração que pode ser avaliada como verdadeira ou falsa. Ela é composta por operandos lógicos² e operadores lógicos³, que são usados ​​para combinar várias expressões lógicas em uma única expressão.\n",
        "\n",
        "² Os operandos lógicos são os elementos que são comparados ou avaliados em uma expressão lógica. Eles são geralmente valores verdadeiros ou falsos, mas também podem ser expressões lógicas mais complexas. Em Python, os operandos lógicos são os valores `True` e `False`.\n",
        "\n",
        "³ Os operadores lógicos são os símbolos ou palavras-chave que são usados ​​para combinar várias expressões lógicas em uma única expressão. Em Python, os operadores lógicos são `and`, `or` e `not`, bem como as palavras-chave `if`, `elif` e `else`."
      ]
    },
    {
      "cell_type": "code",
      "execution_count": null,
      "metadata": {
        "id": "Fs_qb0dLOXsj"
      },
      "outputs": [],
      "source": [
        "t1 = t2 = True #aqui para poder manipular ela atribui como valor de t1 e t2 o true\n",
        "f1 = f2 = False #o mesmo aqui , quando vc faz isso dá o nome de multipla atribuição\n"
      ]
    },
    {
      "cell_type": "code",
      "execution_count": null,
      "metadata": {
        "id": "kL4QVdlZ4O43",
        "colab": {
          "base_uri": "https://localhost:8080/"
        },
        "outputId": "0b5422d9-f389-4ad1-e312-4cc2955336b7"
      },
      "outputs": [
        {
          "output_type": "stream",
          "name": "stdout",
          "text": [
            "expressão verdadeira\n"
          ]
        }
      ],
      "source": [
        "if t1 and t2: #p ser vdd é como na lógica o e exige td vdd\n",
        "  print('expressão verdadeira')\n",
        "else:\n",
        "  print('expressão falsa')"
      ]
    },
    {
      "cell_type": "code",
      "execution_count": null,
      "metadata": {
        "id": "JmQYjvsz4Pw5",
        "colab": {
          "base_uri": "https://localhost:8080/"
        },
        "outputId": "5aeccc9d-0bb1-425b-a525-b7549edb217f"
      },
      "outputs": [
        {
          "output_type": "stream",
          "name": "stdout",
          "text": [
            "expressão verdadeira\n"
          ]
        }
      ],
      "source": [
        "if t1 or f2: #O ou tbm como na lógica qualqer vdd vale\n",
        "  print('expressão verdadeira')\n",
        "else:\n",
        "  print('expressão falsa')"
      ]
    },
    {
      "cell_type": "code",
      "execution_count": null,
      "metadata": {
        "id": "WHfJ-ZLM4Q3k",
        "colab": {
          "base_uri": "https://localhost:8080/"
        },
        "outputId": "75581b00-1ae5-49b9-d5cd-f5799bbce732"
      },
      "outputs": [
        {
          "output_type": "stream",
          "name": "stdout",
          "text": [
            "expressão falsa\n"
          ]
        }
      ],
      "source": [
        "if not t1 : # noté a negativa da lógica, t1 é vdd e ele inverte p falsa\n",
        "  print('expressão verdadeira')\n",
        "else:\n",
        "  print('expressão falsa')"
      ]
    },
    {
      "cell_type": "markdown",
      "metadata": {
        "id": "w7EXG1dhWtja"
      },
      "source": [
        "### `IN`\n",
        "\n",
        "É usado para verificar se um elemento está presente em uma lista, tupla ou outra variável de conjunto. A expressão `x in y` é avaliada como `True` se o elemento `x` estiver presente na variável de conjunto `y`, e como `False` caso contrário."
      ]
    },
    {
      "cell_type": "markdown",
      "metadata": {
        "id": "enJNp6JenQbq"
      },
      "source": [
        "Podemos verificar isso com variáveis de texto.\n",
        "\n",
        "---\n",
        "\n",
        "**Situação:**\n",
        "\n",
        "Na escola foi passada uma lista com nomes de estudantes que foram aprovados por média no semestre, mas é preciso verificar se alguns nomes estão nessa lista para verificar se os dados estão corretos.\n",
        "\n",
        "A lista distribuida pode ser observada abaixo:\n",
        "\n",
        "```\n",
        "lista = 'José da Silva, Maria Oliveira, Pedro Martins, Ana Souza, Carlos Rodrigues, Juliana Santos, Bruno Gomes, Beatriz Costa, Felipe Almeida, Mariana Fernandes, João Pinto, Luísa Nascimento, Gabriel Souza, Manuela Santos, Thiago Oliveira, Sofia Ferreira, Rafael Albuquerque, Isabella Gomes, Bruno Costa, Maria Martins, Rafaela Souza, Matheus Fernandes, Luísa Almeida, Beatriz Pinto, Mariana Rodrigues, Gabriel Nascimento, João Ferreira, Maria Albuquerque, Felipe Oliveira\n",
        "'\n",
        "```\n",
        "\n",
        "Os nomes que precisam ser verificados são os seguintes:\n",
        "\n",
        "```\n",
        "nome_1 = 'Mariana Rodrigues'\n",
        "nome_2 = 'Marcelo Nogueira'\n",
        "```"
      ]
    },
    {
      "cell_type": "code",
      "execution_count": null,
      "metadata": {
        "colab": {
          "base_uri": "https://localhost:8080/",
          "height": 72
        },
        "id": "kU25ABUQ5NBe",
        "outputId": "f5222e69-fa52-4a1c-b530-abb518691caa"
      },
      "outputs": [
        {
          "output_type": "execute_result",
          "data": {
            "text/plain": [
              "'José da Silva, Maria Oliveira, Pedro Martins, Ana Souza, Carlos Rodrigues, Juliana Santos, Bruno Gomes, Beatriz Costa, Felipe Almeida, Marcelo Nogueira, Mariana Fernandes, João Pinto, Luísa Nascimento, Gabriel Souza, Manuela Santos, Thiago Oliveira, Sofia Ferreira, Rafael Albuquerque, Isabella Gomes, Bruno Costa, Maria Martins, Rafaela Souza, Matheus Fernandes, Luísa Almeida, Beatriz Pinto, Mariana Rodrigues, Gabriel Nascimento, João Ferreira, Maria Albuquerque, Felipe Oliveira'"
            ],
            "application/vnd.google.colaboratory.intrinsic+json": {
              "type": "string"
            }
          },
          "metadata": {},
          "execution_count": 8
        }
      ],
      "source": [
        "lista = 'José da Silva, Maria Oliveira, Pedro Martins, Ana Souza, Carlos Rodrigues, Juliana Santos, Bruno Gomes, Beatriz Costa, Felipe Almeida, Marcelo Nogueira, Mariana Fernandes, João Pinto, Luísa Nascimento, Gabriel Souza, Manuela Santos, Thiago Oliveira, Sofia Ferreira, Rafael Albuquerque, Isabella Gomes, Bruno Costa, Maria Martins, Rafaela Souza, Matheus Fernandes, Luísa Almeida, Beatriz Pinto, Mariana Rodrigues, Gabriel Nascimento, João Ferreira, Maria Albuquerque, Felipe Oliveira'\n",
        "lista #mostra a lista pq n tem nada dps ai não precisa print"
      ]
    },
    {
      "cell_type": "code",
      "execution_count": null,
      "metadata": {
        "id": "GY82qLpivC6Y"
      },
      "outputs": [],
      "source": [
        "nome_1 = 'Mariana Rodrigues' #Cria variável com os nomes que vc quer consultar\n",
        "nome_2 = 'Marcelo Nogueira'"
      ]
    },
    {
      "cell_type": "code",
      "execution_count": null,
      "metadata": {
        "id": "ipyXfbpb37b0",
        "colab": {
          "base_uri": "https://localhost:8080/"
        },
        "outputId": "82674a12-a328-419b-bb72-6f5eaf0c5698"
      },
      "outputs": [
        {
          "output_type": "stream",
          "name": "stdout",
          "text": [
            "Achei os 2 Mariana Rodrigues and Marcelo Nogueira\n"
          ]
        }
      ],
      "source": [
        "#Para saber pega a variável criada e coloca em um condicional\n",
        "if nome_1 and nome_2 in lista :\n",
        "  print(f'Achei os 2 {nome_1} and {nome_2}')        #para fazer várias perguntas sobre o mesmo assunto é if , elif, elif, elif... e acaba com else\n",
        "elif nome_2 in lista:\n",
        "  print(f'Achei 1 {nome_2}')\n",
        "elif nome_1 in lista:\n",
        "  print(f'Achei 1 {nome_1}')\n",
        "else:\n",
        "  print('não tem nada')"
      ]
    },
    {
      "cell_type": "code",
      "source": [
        "#1) Escreva um programa que peça à pessoa usuária para fornecer dois números e exibir o número maior.\n",
        "lista_de_numeros_p1 = float(input('Digite um número:'))\n",
        "lista_de_numeros_p2 = float(input('Digite um número:'))\n",
        "if lista_de_numeros_p1 > lista_de_numeros_p2:\n",
        "  print(f'{lista_de_numeros_p1} é maior que {lista_de_numeros_p2}')\n",
        "else:\n",
        "   print(f'{lista_de_numeros_p2} é maior que {lista_de_numeros_p1}')"
      ],
      "metadata": {
        "colab": {
          "base_uri": "https://localhost:8080/"
        },
        "id": "Z6OCLF7rEp4b",
        "outputId": "0f43f38b-c46a-44a8-dda7-f88e2f3042a6"
      },
      "execution_count": null,
      "outputs": [
        {
          "output_type": "stream",
          "name": "stdout",
          "text": [
            "Digite um número:1\n",
            "Digite um número:7\n",
            "7.0 é maior que 1.0\n"
          ]
        }
      ]
    },
    {
      "cell_type": "code",
      "source": [
        "#2) Escreva um programa que solicite o percentual de crescimento de produção de uma empresa e informe se houve um crescimento (porcentagem positiva) ou decrescimento (porcentagem negativa).\n",
        "percentual_informado = float(input('Digite: '))\n",
        "if percentual_informado > 0:\n",
        "  print(f'Houve crescimento de {percentual_informado}')\n",
        "elif percentual_informado < 0:\n",
        "  print(f'Decresceu em {percentual_informado}')\n",
        "else:\n",
        "  print('não cresceu')"
      ],
      "metadata": {
        "colab": {
          "base_uri": "https://localhost:8080/"
        },
        "id": "rgaJmYYNEqTy",
        "outputId": "14fc5cae-bce8-497c-ed37-55565df985a5"
      },
      "execution_count": null,
      "outputs": [
        {
          "output_type": "stream",
          "name": "stdout",
          "text": [
            "Digite: -1\n",
            "Decresceu em -1.0\n"
          ]
        }
      ]
    },
    {
      "cell_type": "code",
      "source": [
        "#3) Escreva um programa que determine se uma letra fornecida pela pessoa usuária é uma vogal ou consoante.\n",
        "lista_vogais = 'a,e,i,o,u, A, E, I, O, U'\n",
        "letra_recebida = input('Digite:')\n",
        "if letra_recebida in lista_vogais:\n",
        "  print(f'{letra_recebida} é uma vogal')\n",
        "else:\n",
        "  print(f'{letra_recebida} é consoante')"
      ],
      "metadata": {
        "colab": {
          "base_uri": "https://localhost:8080/"
        },
        "id": "JooT2FqFEqvC",
        "outputId": "997474bb-8019-414f-8027-8638ba23eef5"
      },
      "execution_count": null,
      "outputs": [
        {
          "output_type": "stream",
          "name": "stdout",
          "text": [
            "Digite:r\n",
            "r é consoante\n"
          ]
        }
      ]
    },
    {
      "cell_type": "code",
      "source": [
        "#4) Escreva um programa que leia valores médios de preços de um modelo de carro por 3 anos consecutivos e exiba o valor mais alto e mais baixo entre esses três anos.\n",
        "preco_ano1 = int(input('Digite o preço:'))\n",
        "preco_ano2 = int(input('Digite o preço:'))\n",
        "preco_ano3 = int(input('Digite o preço:'))\n",
        "if preco_ano1 > preco_ano2 and preco_ano1 > preco_ano3:\n",
        "  print(f'O maior é {preco_ano1}')\n",
        "elif preco_ano2 > preco_ano1 and preco_ano2 > preco_ano3:\n",
        "  print(f'O maior é {preco_ano2}')\n",
        "elif preco_ano3 > preco_ano1 and preco_ano3 > preco_ano2:\n",
        "  print(f'O maior é {preco_ano3}')\n",
        "if preco_ano1 < preco_ano2 and preco_ano1 < preco_ano3:\n",
        "  print(f'O menor é {preco_ano1}')\n",
        "elif preco_ano2 < preco_ano1 and preco_ano2 < preco_ano3:\n",
        "  print(f'O menor é {preco_ano2}')\n",
        "elif preco_ano3 < preco_ano1 and preco_ano3 < preco_ano2:\n",
        "  print(f'O menor é {preco_ano3}')\n"
      ],
      "metadata": {
        "colab": {
          "base_uri": "https://localhost:8080/"
        },
        "id": "FAUdU_ppErEy",
        "outputId": "6f2cc268-356a-4af9-a086-b08c626d0a60"
      },
      "execution_count": null,
      "outputs": [
        {
          "output_type": "stream",
          "name": "stdout",
          "text": [
            "Digite o preço:3\n",
            "Digite o preço:2\n",
            "Digite o preço:1\n",
            "O maior é 3\n",
            "O menor é 1\n"
          ]
        }
      ]
    },
    {
      "cell_type": "code",
      "source": [
        "#5) Escreva um programa que pergunte sobre o preço de três produtos e indique qual é o produto mais barato para comprar.\n",
        "preco_produto1 = float(input('Digite o primeiro preço:'))\n",
        "preco_produto2 = float(input('Digite o primeiro preço:'))\n",
        "preco_produto3 = float(input('Digite o primeiro preço:'))\n",
        "if preco_produto1 < preco_produto2 and preco_produto1 < preco_produto3:\n",
        "  print(f'O menor é {preco_produto1}')\n",
        "elif preco_produto2 < preco_produto1 and preco_produto2 < preco_produto3:\n",
        "  print(f'O menor é {preco_produto2}')\n",
        "elif preco_produto3 < preco_produto1 and preco_produto3 < preco_produto2:\n",
        "  print(f'O menor é {preco_produto3}')\n",
        "\n"
      ],
      "metadata": {
        "colab": {
          "base_uri": "https://localhost:8080/"
        },
        "id": "bFNNfnDqEsRi",
        "outputId": "b48f3960-5dca-4454-e686-442f6fe115df"
      },
      "execution_count": null,
      "outputs": [
        {
          "output_type": "stream",
          "name": "stdout",
          "text": [
            "Digite o primeiro preço:3\n",
            "Digite o primeiro preço:2\n",
            "Digite o primeiro preço:1\n",
            "O menor é 1.0\n"
          ]
        }
      ]
    },
    {
      "cell_type": "code",
      "source": [
        "#6) Escreva um programa que leia três números e os exiba em ordem decrescente. # atenção errou td ..aqui é mais complexo e coloca if dentro do if fechando no else\n",
        "n1 = float(input('Digite um número:'))\n",
        "n2 = float(input('Digite um número:'))\n",
        "n3 = float(input('Digite um Npumero:'))\n",
        "\n",
        "if (n1 >= n2) and (n1 >= n3): #Posso colocar um if dentro de outro if desde que esse último if tenha um else\n",
        " print(n1)\n",
        " if n2 >= n3:\n",
        "  print(n2)\n",
        "  print(n3)\n",
        " else:\n",
        "  print(n3)\n",
        "  print(n2)\n",
        "elif (n2 >= n1) and (n2 >= n3):  #Como eu quero que ele ordene preciso chamar\n",
        "  print(n2)\n",
        "  if n1 > n3:\n",
        "    print(n2)\n",
        "    print(n3)\n",
        "  else:\n",
        "    print(n3)\n",
        "    print(n2)\n",
        "else:\n",
        "  print(n3)                   #No geral vc te, um if e um else e coloca um elif no meio-e dentro de cada um if e um else\n",
        "  if n2 > n1:\n",
        "    print(n2)\n",
        "    print(n1)\n",
        "  else:\n",
        "    print(n2)\n",
        "    print(n1)\n",
        "\n",
        "\n"
      ],
      "metadata": {
        "id": "aOPAyCEHEsna",
        "colab": {
          "base_uri": "https://localhost:8080/"
        },
        "outputId": "9344ba07-0af3-45a4-c744-296330c55b3d"
      },
      "execution_count": null,
      "outputs": [
        {
          "output_type": "stream",
          "name": "stdout",
          "text": [
            "Digite um número:7\n",
            "Digite um número:6\n",
            "Digite um Npumero:9\n",
            "9.0\n",
            "6.0\n",
            "7.0\n"
          ]
        }
      ]
    },
    {
      "cell_type": "code",
      "source": [
        "#7) Escreva um programa que pergunte em qual turno a pessoa usuária estuda (\"manhã\", \"tarde\" ou \"noite\") e exiba a mensagem \"Bom Dia!\", \"Boa Tarde!\", \"Boa Noite!\", ou \"Valor Inválido!\", conforme o caso.\n",
        "pergunta = input('Digite o seu turno(manhã, tarde ou noite): ')\n",
        "if pergunta == 'manhã':\n",
        "  print('Bom dia!')\n",
        "if pergunta == 'tarde':\n",
        "  print('Bom tarde!')\n",
        "elif pergunta == 'noite':\n",
        "  print('Bom noite!')\n",
        "else:\n",
        "  print('Valor Inválido')"
      ],
      "metadata": {
        "id": "Oi6fozb3Es7a",
        "colab": {
          "base_uri": "https://localhost:8080/"
        },
        "outputId": "97321943-a62d-4706-f248-2c791998efca"
      },
      "execution_count": null,
      "outputs": [
        {
          "output_type": "stream",
          "name": "stdout",
          "text": [
            "Digite o seu turno(manhã, tarde ou noite): manhã\n",
            "Bom dia!\n",
            "Valor Inválido\n"
          ]
        }
      ]
    },
    {
      "cell_type": "code",
      "source": [
        "#8) Escreva um programa que peça um número inteiro à pessoa usuária e determine se ele é par ou ímpar. Dica: Você pode utilizar o operador módulo %.\n",
        "#uma outra forma de dizer que um número é par é dizer que a divisçao por dois tem resto zero\n",
        "num = int(input('Digite: '))\n",
        "if num % 2 == 0:\n",
        " print('é par')\n",
        "else:\n",
        "  print('é ímpar')\n"
      ],
      "metadata": {
        "colab": {
          "base_uri": "https://localhost:8080/"
        },
        "id": "GuvFlQjfXEqk",
        "outputId": "593c1b97-7a82-473f-d636-32cdadcddc9d"
      },
      "execution_count": null,
      "outputs": [
        {
          "output_type": "stream",
          "name": "stdout",
          "text": [
            "Digite: 3\n",
            "é ímpar\n"
          ]
        }
      ]
    },
    {
      "cell_type": "code",
      "source": [
        "#9) Escreva um programa que peça um número à pessoa usuária e informe se ele é inteiro ou decimal.\n",
        "num2 = float(input('Digite: '))\n",
        "if num % 1 == 0:\n",
        " print('é inteiro')\n",
        "else:\n",
        "  print('decimal')"
      ],
      "metadata": {
        "colab": {
          "base_uri": "https://localhost:8080/"
        },
        "id": "_eXhGvn9YGlJ",
        "outputId": "b8b2a173-b7a1-4bec-f58e-1870362d376d"
      },
      "execution_count": null,
      "outputs": [
        {
          "output_type": "stream",
          "name": "stdout",
          "text": [
            "Digite: 0.6\n",
            "é inteiro\n"
          ]
        }
      ]
    },
    {
      "cell_type": "code",
      "source": [
        "#10) Um programa deve ser escrito para ler dois números e, em seguida, perguntar à pessoa usuária qual operação ele deseja realizar. O resultado da operação deve incluir informações sobre o número - se é par ou ímpar, positivo ou negativo e inteiro ou decimal.\n",
        "#não foi a maneira ideal\n",
        "primeiro_num = float(input('Digite:'))\n",
        "segundo_num = float(input('Digite:'))\n",
        "\n",
        "resultado_soma = primeiro_num + segundo_num\n",
        "resultado_subtracao = primeiro_num - segundo_num\n",
        "resultado_divisao = primeiro_num / segundo_num\n",
        "resultado_multiplicacao = primeiro_num * segundo_num\n",
        "\n",
        "#num_testavel = resultado_soma = resultado_subtracao = resultado_multiplicacao = resultado_divisao\n",
        "\n",
        "\n",
        "pergunta = input('Qual operação deseja realizar?(soma,subtração,divisão ou multiplicação): ')\n",
        "if pergunta == 'soma':\n",
        "  print(f'O resultado é {resultado_soma}')\n",
        "elif pergunta == 'subtração':\n",
        "  print(f'O resultado é {resultado_subtracao}')                                                # um if 1/2 elif e um else\n",
        "elif pergunta == 'divisão':\n",
        "  print(f'O resultado é {resultado_divisao}')\n",
        "elif pergunta == 'multiplicação':\n",
        "  print(f'O resultado é {resultado_multiplicacao}')\n",
        "if num_testavel % 2 == 0:\n",
        "  print('é par')\n",
        "else:\n",
        "  print('é ímpar')\n",
        "if num_testavel > 0:\n",
        "  print('é positivo')\n",
        "else:\n",
        "  print('é negativo')\n",
        "\n"
      ],
      "metadata": {
        "id": "PQ7aCk_cY-ZF",
        "colab": {
          "base_uri": "https://localhost:8080/"
        },
        "outputId": "4cda163b-7a88-46fe-f3a0-9e0cbfc49351"
      },
      "execution_count": null,
      "outputs": [
        {
          "output_type": "stream",
          "name": "stdout",
          "text": [
            "Digite:2\n",
            "Digite:2\n",
            "Qual operação deseja realizar?(soma,subtração,divisão ou multiplicação): d\n",
            "é ímpar\n",
            "é positivo\n"
          ]
        }
      ]
    },
    {
      "cell_type": "code",
      "source": [
        "#Melhor maneira de resolver o 10\n",
        "#10) Um programa deve ser escrito para ler dois números e, em seguida, perguntar à pessoa usuária qual operação ele deseja realizar. O resultado da operação deve incluir informações sobre o número - se é par ou ímpar, positivo ou negativo e inteiro ou decimal.\n",
        "#criou os inputs\n",
        "num1 = float(input('Digite: '))\n",
        "num2 = float(input('Digite: '))\n",
        "informe = input('Qual operação deseja realizar?(+,-,/,*): ')\n",
        "\n",
        "#Faz um bloco com as operações- o if não precisa do print dps dele precisa só da operação\n",
        "if informe == '+':\n",
        "  resultado = num1 + num2                   #Ele cria a variável resultado, atribui um valor a ela e já faz a operação\n",
        "elif informe == '-':\n",
        "  resultado = num1 - num2\n",
        "elif informe == '/':\n",
        "  resultado = num1 / num2\n",
        "elif informe == '*':\n",
        "  resultado = num1 * num2\n",
        "else:\n",
        "  print('Operação inválida, resultado zero')\n",
        "  resultado = 0\n",
        "\n",
        "#Por fim ele faz um bloco para trazer as informações sobre os resultados\n",
        "if resultado % 2 == 0:\n",
        "  print(f'O resultado é {resultado} e é par')\n",
        "else:\n",
        "  print(f'O resultado é {resultado} e é ímpar')\n",
        "if resultado >= 0:\n",
        "  print(f'O resultado é {resultado} e é positivo')\n",
        "else:\n",
        "  print(f'O resultado é {resultado} e é negativo')\n",
        "\n",
        "\n"
      ],
      "metadata": {
        "colab": {
          "base_uri": "https://localhost:8080/"
        },
        "id": "cmSLJBnrcfJx",
        "outputId": "37d9d9a8-f1a6-4b33-9627-d30b447f1b3d"
      },
      "execution_count": null,
      "outputs": [
        {
          "output_type": "stream",
          "name": "stdout",
          "text": [
            "Digite: 1\n",
            "Digite: 1\n",
            "Qual operação deseja realizar?(+,-,/,*): g\n",
            "Operação inválida, resultado zero\n",
            "O resultado é 0 e é par\n",
            "O resultado é 0 e é positivo\n"
          ]
        }
      ]
    },
    {
      "cell_type": "code",
      "source": [
        "#Escreva um programa que peça à pessoa usuária três números que representam os lados de um triângulo. O programa deve informar se os valores podem ser utilizados para formar um triângulo e, caso afirmativo, se ele é equilátero, isósceles ou escaleno. Tenha em mente algumas dicas:\n",
        "#Criar o input:\n",
        "lado1 = float(input('Digite: '))\n",
        "lado2 = float(input('Digite: '))\n",
        "lado3 = float(input('Digite: '))\n",
        "\n",
        "#Criar o teste:\n",
        "if (lado1 + lado2 or lado1 + lado3 or lado2 + lado3) > (lado1 or lado2 or lado3):\n",
        "  print('É um triângulo')\n",
        "  if (lado1 == lado2) and (lado2 == lado3):                                                # if lado1 == lado2 == lado3 dá errado pq se l1=l2 já compara l1 e 2:\n",
        "   print('e é equilátero')                                                                 # Para criar ifs e elifs vc precisa de um if grande fora e um else grande fora\n",
        "  elif lado1 != lado2 and lado1 != lado3 and lado2 != lado3:\n",
        "    print('e é escaleno')\n",
        "  else:\n",
        "    print('e é isósceles')\n",
        "else:\n",
        "  print('Não é triângulo')\n"
      ],
      "metadata": {
        "colab": {
          "base_uri": "https://localhost:8080/"
        },
        "id": "NuGJ1Yv1fOT3",
        "outputId": "95d3a20a-2121-4ad8-ebaf-bc7676d6518b"
      },
      "execution_count": null,
      "outputs": [
        {
          "output_type": "stream",
          "name": "stdout",
          "text": [
            "Digite: 2\n",
            "Digite: 2\n",
            "Digite: 2\n",
            "É um triângulo\n",
            "e é equilátero\n"
          ]
        }
      ]
    },
    {
      "cell_type": "code",
      "source": [
        "#12) Um estabelecimento está vendendo combustíveis com descontos variados. Para o etanol, se a quantidade comprada for até 15 litros, o desconto será de 2% por litro. Caso contrário, será de 4% por litro. Para o diesel, se a quantidade comprada for até 15 litros, o desconto será de 3% por litro. Caso contrário, será de 5% por litro. O preço do litro de diesel é R$ 2,00 e o preço do litro de etanol é R$ 1,70. Escreva um programa que leia a quantidade de litros vendidos e o tipo de combustível (E para etanol e D para diesel) e calcule o valor a ser pago pelo cliente.\n",
        "tipo = (input('Digite G para gasolina e D para diesel: '))\n",
        "litros = float(input('Digite quanto litros: '))\n",
        "if tipo == 'E' and 'e': #Ele faz uma fórmula para os dois e altera o valor da variável dentro da formula no caso o preço\n",
        " precolitro = 1.7\n",
        " if litros<= 15:\n",
        "  desconto = 0.02\n",
        " else:\n",
        "  desconto = 0.04\n",
        "elif tipo == 'D' and 'd':\n",
        " precolitro = 2\n",
        "if litros <= 15:\n",
        " desconto = 0.03\n",
        "else:\n",
        "  desconto = 0.05                      #Para escolher e executar separadament dois blocos pode usar um if dps um elif que não acaba em else e dentro deles um if e um else como mais uma condição para a variável.\n",
        "#Cria as variaveis para exibir ccombinando as entradas\n",
        "valor_desconto = precolitro * litros * desconto\n",
        "valor_pago = precolitro * litros - valor_desconto\n",
        "\n",
        "print(f'O valor a pagar é {valor_pago}')\n",
        "\n",
        "#meu código não pedia o combustível primeiro, não escolhia a condicional aplicável e por isso saiam dois resultados"
      ],
      "metadata": {
        "colab": {
          "base_uri": "https://localhost:8080/"
        },
        "id": "4pyGzZP1ynkr",
        "outputId": "baa8b280-76d2-4a38-de2d-a4d6773fa0a8"
      },
      "execution_count": null,
      "outputs": [
        {
          "output_type": "stream",
          "name": "stdout",
          "text": [
            "Digite G para gasolina e D para diesel: e\n",
            "Digite quanto litros: 1\n",
            "O valor a pagar é 1.94\n"
          ]
        }
      ]
    },
    {
      "cell_type": "code",
      "source": [
        "#12) Um estabelecimento está vendendo combustíveis com descontos variados. Para o etanol, se a quantidade comprada for até 15 litros, o desconto será de 2% por litro. Caso contrário, será de 4% por litro. Para o diesel, se a quantidade comprada for até 15 litros, o desconto será de 3% por litro. Caso contrário, será de 5% por litro. O preço do litro de diesel é R$ 2,00 e o preço do litro de etanol é R$ 1,70. Escreva um programa que leia a quantidade de litros vendidos e o tipo de combustível (E para etanol e D para diesel) e calcule o valor a ser pago pelo cliente.\n",
        "tipo = (input('Digite G para gasolina e D para diesel: '))\n",
        "litros = float(input('Digite quanto litros: '))\n",
        "if tipo == 'E': #Ele faz uma fórmula para os dois e altera o valor da variável dentro da formula no caso o preço\n",
        "precolitro = 1,70\n",
        " if litros<= 15:\n",
        " desconto = 0,02\n",
        " else:\n",
        " desconto = 0.04\n",
        "elif tipo == 'D':\n",
        "precolitro = 2,00\n",
        "  if litros <= 15:\n",
        "    desconto = 0,03\n",
        "else:\n",
        "desconto = 0,05                      #Para escolher e executar separadament dois blocos pode usar um if dps um elif que não acaba em else e dentro deles um if e um else como mais uma condição para a variável.\n",
        "#Cria as variaveis para exibir ccombinando as entradas\n",
        "valor_desconto = precolitro * litros * desconto\n",
        "valor_pago = precolitro * litros - valor_desconto\n",
        "\n",
        "\n",
        "\n",
        "#meu código não pedia o combustível primeiro, não escolhia a condicional aplicável e por isso saiam dois resultados\n",
        "\"\"\"qlitrosgasolina = float(input('Digite quantos litros deseja: '))\n",
        "if qlitrosgasolina <= 15:\n",
        " print(1,70*qlitrosgasolina*0.02)\n",
        "else:\n",
        "  print((1,70*qlitrosgasolina*0.04))\n",
        "\n",
        "qlitrosdiesel = float(input('Digite quantos litros deseja: '))\n",
        "if qlitrosdiesel <= 15:\n",
        " print(2*qlitrosdiesel*0.03)\n",
        "else:\n",
        "  print((2*qlitrosdiesel*0.05))\"\"\"\n"
      ],
      "metadata": {
        "id": "0mOO9YaECpIB"
      },
      "execution_count": null,
      "outputs": []
    },
    {
      "cell_type": "code",
      "source": [
        "#13) Em uma empresa de venda de imóveis você precisa criar um código que analise os dados de vendas anuais para ajudar a diretoria na tomada de decisão. O código precisa coletar os dados de quantidade de venda durante os anos de 2022 e 2023 e fazer um cálculo de variação percentual. A partir do valor da variação, deve ser enviada às seguintes sugestões:\n",
        "ano2022 = float(input('Digite o valor de 2022: '))\n",
        "ano2023 = float(input('Digite o valor de 2023: '))\n",
        "variacao = 100* (ano2023-ano2022)/ano2022 #justamente para calcular a variação percentual\n",
        "\n",
        "if variacao > 20:\n",
        "  print('bonificação para o time de vendas')\n",
        "elif 20 > variacao > 2:\n",
        " print('pequena boonificação para vendas')\n",
        "elif 2 > variacao > -10:\n",
        "  print('planejamento de políticas de incentivo às vendas')\n",
        "else:\n",
        "  print('corte de gastos')\n",
        "\n"
      ],
      "metadata": {
        "colab": {
          "base_uri": "https://localhost:8080/"
        },
        "id": "3BYTKcrSCwvc",
        "outputId": "8d317f39-e615-4f24-a5ca-53690fcacec7"
      },
      "execution_count": null,
      "outputs": [
        {
          "output_type": "stream",
          "name": "stdout",
          "text": [
            "Digite o valor de 2022: 2\n",
            "Digite o valor de 2023: 2\n",
            "planejamento de políticas de incentivo às vendas\n"
          ]
        }
      ]
    },
    {
      "cell_type": "markdown",
      "metadata": {
        "id": "aL1vJPewvwvz"
      },
      "source": [
        "# Estruturas de repetição"
      ]
    },
    {
      "cell_type": "code",
      "source": [
        "#while repete desde que a condição seja verdadeira é o mesmo que enquanto. A ideia é adicionar +1 ao resultado do contador e parar no 10\n",
        "# while condição:\n",
        " #bloco para execução\n",
        "contador = 1  #Atribui o primeiro valor\n",
        "while contador <= 10:\n",
        "  print(contador)\n",
        "  contador = contador + 1\n"
      ],
      "metadata": {
        "id": "n_wgFdBJV9CR",
        "colab": {
          "base_uri": "https://localhost:8080/"
        },
        "outputId": "e6ddc265-edbd-47d7-95be-d9a7de7054b2"
      },
      "execution_count": null,
      "outputs": [
        {
          "output_type": "stream",
          "name": "stdout",
          "text": [
            "1\n",
            "2\n",
            "3\n",
            "4\n",
            "5\n",
            "6\n",
            "7\n",
            "8\n",
            "9\n",
            "10\n"
          ]
        }
      ]
    },
    {
      "cell_type": "markdown",
      "metadata": {
        "id": "VcPfCa8d-84t"
      },
      "source": [
        "Quando temos que executar um mesmo bloco de comandos por várias vezes não é muito interessante fazer isso à mão.\n",
        "\n",
        "Imaginemos a situação de termos que coletar e imprimir a média de duas notas de **3 estudantes**:"
      ]
    },
    {
      "cell_type": "code",
      "execution_count": null,
      "metadata": {
        "id": "LzPyN4Ad3qwy"
      },
      "outputs": [],
      "source": [
        "nota_1 = float(input('Digite a 1° nota: '))\n",
        "nota_2 = float(input('Digite a 2° nota: '))\n",
        "\n",
        "print(f'Média: {(nota_1+nota_2)/2}')"
      ]
    },
    {
      "cell_type": "markdown",
      "metadata": {
        "id": "9puIuvUbFSFX"
      },
      "source": [
        "Agora imaginemos uma situação em que não são apenas 3 estudantes, mas sim 100 estudantes. Não seria interessante repetir o mesmo código por 100 vezes, mas sim **executar o mesmo código 100 vezes**.\n",
        "\n",
        "Essa repetição conseguimos construir com laços de repetição!"
      ]
    },
    {
      "cell_type": "markdown",
      "metadata": {
        "id": "uLO9-aE4-wx8"
      },
      "source": [
        "## `WHILE`"
      ]
    },
    {
      "cell_type": "markdown",
      "metadata": {
        "id": "rXZxDMiqHxm9"
      },
      "source": [
        "O laço `while` é uma estrutura de controle de repetição em Python que permite executar um bloco de código repetidamente enquanto uma determinada condição é verdadeira. Sua estrutura é:\n",
        "\n",
        "\n",
        "\n",
        "```\n",
        "while condição:\n",
        "    # bloco de código\n",
        "```\n",
        "\n",
        "Vamos construir um exemplo com um contador de 1 até 10.\n"
      ]
    },
    {
      "cell_type": "code",
      "execution_count": null,
      "metadata": {
        "id": "6b_izu633j0O"
      },
      "outputs": [],
      "source": [
        "#while repete desde que a condição seja verdadeira é o mesmo que enquanto. A ideia é adicionar +1 ao resultado do contador e parar no 10\n",
        "# while condição:\n",
        " #bloco para execução\n",
        "contador = 1  #Atribui o primeiro valor\n",
        "while contador <= 10:\n",
        "  print(contador)\n",
        "  contador = contador + 1"
      ]
    },
    {
      "cell_type": "markdown",
      "metadata": {
        "id": "W4KZPBJuIrut"
      },
      "source": [
        "Agora vamos coletar as notas e médias de cada aluno dentro do while. Faremos um exemplo com 3 médias."
      ]
    },
    {
      "cell_type": "code",
      "execution_count": null,
      "metadata": {
        "id": "aIeQ_CzW3jiP"
      },
      "outputs": [],
      "source": [
        "#A ideia é como a do contador e coloca o número de vezes que vc quer que ele repita o código\n",
        "contador = 1 #tem que criar a variável e atribuir um valor de início\n",
        "while contador <= 3:    #determinar um limite para ela\n",
        "  nota_1 = float(input('Digite a 1° nota: '))\n",
        "  nota_2 = float(input('Digite a 2° nota: '))\n",
        "#Tem que dar essa distância e o espaço de identação\n",
        "  print(f'Média: {(nota_1+nota_2)/2}')\n",
        "  contador = contador + 1  #coloca isso para parar o looping\n",
        "# Os laços não são bons para dados muito grandes pq pode ser lento e exigir mt do processador"
      ]
    },
    {
      "cell_type": "code",
      "source": [
        "#Também tem assim como no java script a ideia de encurtar o texto\n",
        "#preco += 3 é o valor da variável preço mais 3\n",
        "# Isso repete para todas\n",
        "#  += soma e atribui o novo valor a variável\n",
        "#  -= subtrai e atribui o novo valor a variável\n",
        "#  *= multiplica e atribui o novo valor a variável\n",
        "#  /= divide e atribui o novo valor a variável\n",
        "#  //= pega só a parte da divisão inteira e atribui a variável\n",
        "#  %= pega o resto da divisão por zero e atribui a variável\n"
      ],
      "metadata": {
        "id": "nUzRrpNgNwRI"
      },
      "execution_count": null,
      "outputs": []
    },
    {
      "cell_type": "markdown",
      "metadata": {
        "id": "WgAIaENMMfCP"
      },
      "source": [
        "## `FOR`"
      ]
    },
    {
      "cell_type": "markdown",
      "metadata": {
        "id": "HxrSZoRAMh-x"
      },
      "source": [
        "O laço `for` é um tipo de estrutura de controle de fluxo em Python que permite iterar sobre um conjunto de elementos. A sua estrutura é:\n",
        "\n",
        "\n",
        "\n",
        "```\n",
        "for elemento in conjunto: Para um determinado elemento contido no conjunto rode tal/tais comandos.\n",
        "# O que ela chama de elemento aqui q vai ser atribuído a cada um do conjunto\n",
        "    # código a ser executado para cada elemento\n",
        "```\n",
        "\n",
        "O laço for itera sobre cada elemento do conjunto especificado e executa o bloco de código dentro do laço para cada elemento. Quando o laço chega ao final do conjunto, ele é interrompido e o programa continua a execução após o laço.\n",
        "\n"
      ]
    },
    {
      "cell_type": "markdown",
      "metadata": {
        "id": "6VgjyoQtPHBM"
      },
      "source": [
        "O conjunto pode ser gerado com a função [`range()`](https://docs.python.org/3/library/functions.html#func-range). Que é uma função capaz de gerar uma sequência de números inteiros. A estrutura dessa função é:\n",
        "\n",
        "```\n",
        "range(inicio, fim, passo)  esse negócio de passo diz se é de 1 em 1, 2 em 2 sendo que quando é 1 não precisa\n",
        "```\n",
        "\n",
        "Segundo a documentação, o `range()` gera uma sequência de números inteiros a partir do valor do parâmetro `inicio` até o valor do parâmetro `fim`, de acordo com o valor do parâmetro `passo`. Se `inicio` não for especificado, o valor padrão é 0. Se `passo` não for especificado, o valor padrão é 1.\n",
        "\n",
        "\n"
      ]
    },
    {
      "cell_type": "markdown",
      "metadata": {
        "id": "ryn0hfdlUwC8"
      },
      "source": [
        "Vamos fazer o mesmo contador `while` agora com `for`."
      ]
    },
    {
      "cell_type": "code",
      "execution_count": null,
      "metadata": {
        "id": "t6qcdPyP3YgZ",
        "colab": {
          "base_uri": "https://localhost:8080/"
        },
        "outputId": "389ee668-2e79-4bca-b218-79b6d442b662"
      },
      "outputs": [
        {
          "output_type": "stream",
          "name": "stdout",
          "text": [
            "1\n",
            "2\n",
            "3\n",
            "4\n",
            "5\n",
            "6\n",
            "7\n",
            "8\n",
            "9\n",
            "10\n"
          ]
        }
      ],
      "source": [
        "for contador in range(1,11): #O elemento não precisa ser criado antes vc pode criar a variável aqui dentro. O range é o conjunto artificial de elementos que ele cria automaticamente do ponto final -1\n",
        " print(contador)  #Não precisa incrementar pq ele vai ler o que está dentro do range\n",
        " #Não dá para dizer que um for é mais rápido que um while e vice versa. O for não depende de uma condição para ser executado\n"
      ]
    },
    {
      "cell_type": "code",
      "execution_count": null,
      "metadata": {
        "id": "KBeY8z573YWz",
        "colab": {
          "base_uri": "https://localhost:8080/"
        },
        "outputId": "bb13a91d-5c95-44bc-90cc-d52b0e8c3cc9"
      },
      "outputs": [
        {
          "output_type": "stream",
          "name": "stdout",
          "text": [
            "Digite a 1° nota: 5\n",
            "Digite a 2° nota: 5\n",
            "Média: 5.0\n",
            "Digite a 1° nota: 6\n",
            "Digite a 2° nota: 6\n",
            "Média: 6.0\n",
            "Digite a 1° nota: 3\n",
            "Digite a 2° nota: 3\n",
            "Média: 3.0\n"
          ]
        }
      ],
      "source": [
        "for contador in range(1,4): #Aqui é como se fosse range(1,4,1)\n",
        "  nota_1 = float(input('Digite a 1° nota: '))\n",
        "  nota_2 = float(input('Digite a 2° nota: '))\n",
        "#Tem que dar essa distância e o espaço de identação\n",
        "  print(f'Média: {(nota_1+nota_2)/2}')"
      ]
    },
    {
      "cell_type": "code",
      "source": [
        "#O continue e o break são usados para interagir com os comandos do do e do while\n",
        "# O continue pula um item com determinado valor e o break interrompe o laço e joga para executar o código de fora\n",
        "for i in range(1,6):  # aqui o elemento é chamado i então aqui diz- para i dentro desse conjunto de 1-6: execute tal coisa\n",
        "  if i == 4:     # quando o i desse conjunto for = 4 pula o quatro e continua a executar o código dentro do for, ou seja, só não quero o 4.\n",
        "    continue\n",
        "  print(i)\n"
      ],
      "metadata": {
        "id": "THmS6j6zUswp"
      },
      "execution_count": null,
      "outputs": []
    },
    {
      "cell_type": "code",
      "source": [
        "# O break já diz para pular para outra. Por exemplo,\n",
        "for i in range(1,9): #Aqui para o i dentro do conjunto range quando chegar a 5 ele interrompe o loop e joga para executar o texto de fora\n",
        "  if i == 5:\n",
        "    break\n",
        "  print(i)"
      ],
      "metadata": {
        "id": "UTbgRLG5U5q7"
      },
      "execution_count": null,
      "outputs": []
    },
    {
      "cell_type": "code",
      "source": [
        "#1) Escreva um programa que peça dois números inteiros e imprima todos os números inteiros entre eles.\n",
        "n1 = int(input('Digite um número inteiro: '))\n",
        "n2 = int(input('Digite um número inteiro: '))\n",
        "\n",
        "if n1 < n2:# Se o início for menor que o fim\n",
        " for i in range(n1 +1, n2): # para garantir que ele vai executar o código com a sequência na ordem certo (5,10,1) e não (10,5,1) caso n1<n2 dá errado\n",
        "  print(i)\n",
        "elif n1 > n2:\n",
        " for i in range(n2 +1, n1):\n",
        "  print(i)\n",
        "else:\n",
        "  print('Os números são iguais')\n",
        "\n"
      ],
      "metadata": {
        "colab": {
          "base_uri": "https://localhost:8080/"
        },
        "id": "OlQtZlI2VNEG",
        "outputId": "2c74c553-8998-4172-d2e8-705a8da57ca7"
      },
      "execution_count": null,
      "outputs": [
        {
          "output_type": "stream",
          "name": "stdout",
          "text": [
            "Digite um número inteiro: 5\n",
            "Digite um número inteiro: 10\n",
            "6\n",
            "7\n",
            "8\n",
            "9\n"
          ]
        }
      ]
    },
    {
      "cell_type": "code",
      "source": [
        "#2) Escreva um programa para calcular quantos dias levará para a colônia de uma bactéria A ultrapassar ou igualar a colônia de uma bactéria B,\n",
        "# com base nas taxas de crescimento de 3% e 1,5% respectivamente. Considere que a colônia A inicia com 4 elementos e a B com 10.\n",
        "\n",
        "#A colonia a começa com 4 e a b com 10\n",
        "a = 4\n",
        "b = 10\n",
        "#dias começa do 0\n",
        "d = 0\n",
        "# já tem um valor para as taxas que é fixo\n",
        "txa = 0,03\n",
        "txb = 0,15\n",
        "#Ele dá a ideia de criar exatamente a condição que ele pede e avisar\n",
        "while a <= b:   #enquanto a condição limite não se acaba ele continua repetindo\n",
        " a *= 1 + txa  # a variável 1 vai recebendo de forma atualizada os valores da reprodução\n",
        " b *= 1 + txb # é 1 = a taxa para manter os 100% ou seja o crescimento que já tinha mais o que ganhou\n",
        " d += 1 # Vai recebendo mais um dia a cada execução do looping\n",
        "print(f'Levará {d} dias')\n",
        "\n"
      ],
      "metadata": {
        "id": "NV6j_vh5XIkf"
      },
      "execution_count": null,
      "outputs": []
    },
    {
      "cell_type": "code",
      "source": [],
      "metadata": {
        "id": "cLUTHfbsXI1V"
      },
      "execution_count": null,
      "outputs": []
    },
    {
      "cell_type": "code",
      "source": [],
      "metadata": {
        "id": "mkhZqgQRXJD-"
      },
      "execution_count": null,
      "outputs": []
    },
    {
      "cell_type": "code",
      "source": [],
      "metadata": {
        "id": "bNPGdRGjXJTW"
      },
      "execution_count": null,
      "outputs": []
    },
    {
      "cell_type": "code",
      "source": [],
      "metadata": {
        "id": "zWPjNB5RXJpW"
      },
      "execution_count": null,
      "outputs": []
    },
    {
      "cell_type": "code",
      "source": [],
      "metadata": {
        "id": "LajgvnqMXJ7O"
      },
      "execution_count": null,
      "outputs": []
    },
    {
      "cell_type": "code",
      "source": [],
      "metadata": {
        "id": "FXZjW9adXKM-"
      },
      "execution_count": null,
      "outputs": []
    },
    {
      "cell_type": "code",
      "source": [],
      "metadata": {
        "id": "OXH8C_hlXL_G"
      },
      "execution_count": null,
      "outputs": []
    },
    {
      "cell_type": "markdown",
      "metadata": {
        "id": "8noP8OJ0Vhux"
      },
      "source": [
        "# Estruturas de dados"
      ]
    },
    {
      "cell_type": "markdown",
      "metadata": {
        "id": "xpEUkefTu8fY"
      },
      "source": [
        "Um conjunto de elementos é uma coleção de itens, que são armazenados juntos de maneira organizada. Alguns exemplos de conjuntos de elementos em Python são listas, strings e dicionários."
      ]
    },
    {
      "cell_type": "markdown",
      "metadata": {
        "id": "THSg4KYLwxIb"
      },
      "source": [
        "## Listas"
      ]
    },
    {
      "cell_type": "markdown",
      "metadata": {
        "id": "dzpsiqrOyJcK"
      },
      "source": [
        "As listas podem armazenar uma coleção de itens em ordem. Eles são delimitados por colchetes `[]` e os itens são separados por vírgulas.\n",
        "\n",
        "Elas também podem armazenar qualquer tipo de item, incluindo números, strings, objetos e outras listas. Elas também podem armazenar itens de tipos de dados diferentes juntos em uma única lista."
      ]
    },
    {
      "cell_type": "code",
      "execution_count": null,
      "metadata": {
        "id": "1NSzXfct3Lkw"
      },
      "outputs": [],
      "source": []
    },
    {
      "cell_type": "markdown",
      "metadata": {
        "id": "qUz3sJNl6LgK"
      },
      "source": [
        "As listas são organizadas em Python porque **cada elemento da lista tem um índice que indica sua posição na lista**. Os índices começam em 0 e vão até o tamanho da lista menos 1."
      ]
    },
    {
      "cell_type": "markdown",
      "metadata": {
        "id": "rLf-Qg526hFD"
      },
      "source": [
        "Temos então 5 elementos com índices variando de 0 a 4, ordenadamente:\n",
        "\n",
        "```\n",
        "#             [0]           [1]   [2]   [3]    [4]\n",
        "lista = ['Fabricio Daniel', 9.5 , 9.0 , 8.0 , True]\n",
        "```\n",
        "\n",
        "Em Python temos também os índices **negativos** que se iniciam no último elemento com o valor de `-1` e depois avancam no universo dos negativos até chegar no 1° elemeno:\n",
        "\n",
        "```\n",
        "#             [-5]         [-4]  [-3]  [-2]   [-1]\n",
        "lista = ['Fabricio Daniel', 9.5 , 9.0 , 8.0 , True]\n",
        "```\n",
        "\n",
        "Conseguimos selecionar separadamente cada elemento através de seus respectivos índices. Colocando o nome da lista e em seguida o índice a ser selecionado."
      ]
    },
    {
      "cell_type": "code",
      "execution_count": null,
      "metadata": {
        "id": "S1lf1DWg3J7A"
      },
      "outputs": [],
      "source": []
    },
    {
      "cell_type": "code",
      "execution_count": null,
      "metadata": {
        "id": "5MZu9F6S3JxS"
      },
      "outputs": [],
      "source": []
    },
    {
      "cell_type": "code",
      "execution_count": null,
      "metadata": {
        "id": "9uLwwKom3Jmg"
      },
      "outputs": [],
      "source": []
    },
    {
      "cell_type": "markdown",
      "metadata": {
        "id": "6TaE1ijmBTCd"
      },
      "source": [
        "Uma forma mais dinâmica de trabalhar item por item de uma lista é utilizando um laço for para leitura elemento a elemento."
      ]
    },
    {
      "cell_type": "code",
      "execution_count": null,
      "metadata": {
        "id": "2GWvY7F-3IVP"
      },
      "outputs": [],
      "source": []
    },
    {
      "cell_type": "markdown",
      "metadata": {
        "id": "Dh1_HnIVvucY"
      },
      "source": [
        "A nota `8.0` de Fabricio Daniel precisa ser ajustada pois ganhou 2 pontos em sua ultima nota por fazer um trabalho de turma. Então é necessária fazer uma troca no valor do índice `3` de `8.0` para `10.0`."
      ]
    },
    {
      "cell_type": "code",
      "execution_count": null,
      "metadata": {
        "id": "ffFiIlji3G7H"
      },
      "outputs": [],
      "source": []
    },
    {
      "cell_type": "markdown",
      "metadata": {
        "id": "53XduzXkycAf"
      },
      "source": [
        "conseguimos calcular a média do aluno a partir dos dados que temos"
      ]
    },
    {
      "cell_type": "code",
      "execution_count": null,
      "metadata": {
        "id": "fRy9twzI3GFI"
      },
      "outputs": [],
      "source": [
        "media = (lista[1] + lista[2] + lista[3])/3\n",
        "media"
      ]
    },
    {
      "cell_type": "markdown",
      "metadata": {
        "id": "d-iYr10-y4qw"
      },
      "source": [
        "## Manipulação de listas\n",
        "\n",
        "As listas são muito úteis em Python porque permitem armazenar e acessar uma coleção de itens de maneira organizada e rápida. Elas também oferecem muitos métodos úteis para manipular os itens armazenados, como adicionar, remover, classificar e pesquisar elementos."
      ]
    },
    {
      "cell_type": "markdown",
      "metadata": {
        "id": "ZLqx9A97XVB_"
      },
      "source": [
        "#### Quantidade de elementos\n",
        "\n",
        "Usamos a função [`len()`](https://docs.python.org/3/library/functions.html#len) para descobrimos a quantidade de elementos de um conjunto."
      ]
    },
    {
      "cell_type": "code",
      "execution_count": null,
      "metadata": {
        "id": "TOVGVubX3BI_"
      },
      "outputs": [],
      "source": []
    },
    {
      "cell_type": "markdown",
      "metadata": {
        "id": "Z5tpstlHJss3"
      },
      "source": [
        "#### Partição\n",
        "\n",
        "A partição de listas por indexação em Python é uma técnica muito útil para selecionar um subconjunto de elementos de uma lista. Ela é feita usando a sintaxe `lista[inicio:fim]`, onde `inicio` é o índice do primeiro elemento a ser incluído na partição e `fim` é o índice do primeiro elemento a ser excluído da partição."
      ]
    },
    {
      "cell_type": "code",
      "execution_count": null,
      "metadata": {
        "id": "Gm9RaTnG28uC"
      },
      "outputs": [],
      "source": []
    },
    {
      "cell_type": "code",
      "execution_count": null,
      "metadata": {
        "id": "LfitkLcQ26MO"
      },
      "outputs": [],
      "source": [
        "lista[1:3]"
      ]
    },
    {
      "cell_type": "code",
      "execution_count": null,
      "metadata": {
        "id": "1-99Q09W28Bu"
      },
      "outputs": [],
      "source": []
    },
    {
      "cell_type": "code",
      "execution_count": null,
      "metadata": {
        "id": "j23Uwma5226l"
      },
      "outputs": [],
      "source": [
        "lista[3:]"
      ]
    },
    {
      "cell_type": "code",
      "execution_count": null,
      "metadata": {
        "id": "zfMrd28_21_q"
      },
      "outputs": [],
      "source": []
    },
    {
      "cell_type": "markdown",
      "metadata": {
        "id": "O0RRyabkRzZC"
      },
      "source": [
        "#### [`append()`](https://docs.python.org/3/tutorial/datastructures.html#:~:text=of%20list%20objects%3A-,list.append(x),-Add%20an%20item)\n",
        "\n",
        "Adiciona um elemento ao final da lista."
      ]
    },
    {
      "cell_type": "code",
      "execution_count": null,
      "metadata": {
        "id": "Sr2BasZE20qF"
      },
      "outputs": [],
      "source": []
    },
    {
      "cell_type": "markdown",
      "metadata": {
        "id": "uQV91XMsUOJD"
      },
      "source": [
        "#### [`extend()`](https://docs.python.org/3/tutorial/datastructures.html#:~:text=list.extend(iterable))\n",
        "\n",
        "Adiciona vários elementos ao final da lista.\n",
        "\n",
        "Adicionaremos as notas `[10.0,8.0,9.0]` na lista do Fabricio Daniel"
      ]
    },
    {
      "cell_type": "code",
      "execution_count": null,
      "metadata": {
        "id": "b8a6wX2w2zrs"
      },
      "outputs": [],
      "source": []
    },
    {
      "cell_type": "markdown",
      "metadata": {
        "id": "IVJvkTwNUk6M"
      },
      "source": [
        "*Isso não é possivel ser feito com o* `append`."
      ]
    },
    {
      "cell_type": "code",
      "execution_count": null,
      "metadata": {
        "id": "DyT9kWkB2yeB"
      },
      "outputs": [],
      "source": []
    },
    {
      "cell_type": "markdown",
      "metadata": {
        "id": "dPGM5gpyUX1z"
      },
      "source": [
        "#### [`remove()`](https://docs.python.org/3/tutorial/datastructures.html#:~:text=append(x).-,list.remove(x),-Remove%20the%20first)\n",
        "\n",
        "Remove um elemento específico da lista."
      ]
    },
    {
      "cell_type": "code",
      "execution_count": null,
      "metadata": {
        "id": "QgXraxZL2xZN"
      },
      "outputs": [],
      "source": []
    },
    {
      "cell_type": "markdown",
      "metadata": {
        "id": "Rc22Vc08YDZ2"
      },
      "source": [
        "## Dicionário"
      ]
    },
    {
      "cell_type": "markdown",
      "metadata": {
        "id": "PJ-cCKPjeWxL"
      },
      "source": [
        "Os dicionários são um tipo de estrutura de dados que armazenam pares de *chave-valor*. Eles são delimitados por chaves `{}` e os pares *chave-valor* são separados por vírgulas.\n",
        "\n",
        "```\n",
        "dicionário = {chave: valor}\n",
        "```\n",
        "\n",
        "A **chave** é um elemento único que identifica um valor no dicionário, enquanto o **valor** é o item que é armazenado para a chave. As chaves e os valores podem ser de **qualquer tipo de dado**.\n",
        "\n",
        "Os dicionários são úteis para armazenar e acessar dados de maneira organizada e rápida. Eles são um tipo de conjunto de elementos em Python, pois armazenam uma coleção de itens."
      ]
    },
    {
      "cell_type": "code",
      "execution_count": null,
      "metadata": {
        "id": "fO6BSSP02lPY"
      },
      "outputs": [],
      "source": []
    },
    {
      "cell_type": "markdown",
      "metadata": {
        "id": "_JbQ3KMKfkXU"
      },
      "source": [
        "---\n",
        "**Situação:**\n",
        "\n",
        "Vamos criar um conjunto de dados com informações de matricula de um estudante. Os dados são os seguintes:\n",
        "\n",
        "- matricula: 2000168933\n",
        "- dia de cadastro: 25\n",
        "- mês de cadastro: 10\n",
        "- turma: 2E"
      ]
    },
    {
      "cell_type": "code",
      "execution_count": null,
      "metadata": {
        "id": "Q1SKuEXQ2jkL"
      },
      "outputs": [],
      "source": []
    },
    {
      "cell_type": "code",
      "execution_count": null,
      "metadata": {
        "id": "H7oT2M_a2jY5"
      },
      "outputs": [],
      "source": []
    },
    {
      "cell_type": "code",
      "execution_count": null,
      "metadata": {
        "id": "Mv8we96a2jPR"
      },
      "outputs": [],
      "source": []
    },
    {
      "cell_type": "markdown",
      "metadata": {
        "id": "8ex5pt2ykDd2"
      },
      "source": [
        "É possível substituir os valores dentro de uma chave. Por exemplo, recebemos a informação que a turma do estudante que cadastramos foi trocada para `'2G'` e agora precisamos trocar o valor da chave `'turma'`."
      ]
    },
    {
      "cell_type": "code",
      "execution_count": null,
      "metadata": {
        "id": "WqZPkVop2hq-"
      },
      "outputs": [],
      "source": []
    },
    {
      "cell_type": "markdown",
      "metadata": {
        "id": "wB0qRb56mQvv"
      },
      "source": [
        "Podemos também adicionar outros dados ao dicionário. Vamos adicionar a informação de modalidade de ensino, nosso estudante atuará inicialmente em modalidade EAD.\n",
        "\n",
        "Então iremos definir uma chave chamada `'modalidade'` e o valor `'EAD'`."
      ]
    },
    {
      "cell_type": "code",
      "execution_count": null,
      "metadata": {
        "id": "YDbsuNbw2gb2"
      },
      "outputs": [],
      "source": []
    },
    {
      "cell_type": "markdown",
      "metadata": {
        "id": "LJ3o_inroxg_"
      },
      "source": [
        "## Aprofundando em dicionários"
      ]
    },
    {
      "cell_type": "markdown",
      "metadata": {
        "id": "2N3GLlkSpBiu"
      },
      "source": [
        "#### [`pop()`](https://python-reference.readthedocs.io/en/latest/docs/dict/pop.html)\n",
        "Remove um item de um dicionário e o retorna."
      ]
    },
    {
      "cell_type": "code",
      "execution_count": null,
      "metadata": {
        "id": "NJKPaN0N2d2G"
      },
      "outputs": [],
      "source": []
    },
    {
      "cell_type": "code",
      "execution_count": null,
      "metadata": {
        "id": "7XZ7Rl4R2cSF"
      },
      "outputs": [],
      "source": [
        "cadastro"
      ]
    },
    {
      "cell_type": "markdown",
      "metadata": {
        "id": "sYZGvJJYrW_y"
      },
      "source": [
        "#### [`items()`](https://python-reference.readthedocs.io/en/latest/docs/dict/items.html)\n",
        "Retorna uma lista de pares chave-valor do dicionário."
      ]
    },
    {
      "cell_type": "code",
      "execution_count": null,
      "metadata": {
        "id": "rWJG9aZ72a0D"
      },
      "outputs": [],
      "source": []
    },
    {
      "cell_type": "markdown",
      "metadata": {
        "id": "Lb0utNFGrZBY"
      },
      "source": [
        "#### [`keys()`](https://python-reference.readthedocs.io/en/latest/docs/dict/keys.html)\n",
        "Retorna uma lista das chaves do dicionário."
      ]
    },
    {
      "cell_type": "code",
      "execution_count": null,
      "metadata": {
        "id": "H1WmQRaR2Z-l"
      },
      "outputs": [],
      "source": []
    },
    {
      "cell_type": "markdown",
      "metadata": {
        "id": "qKyu3bf9rbtX"
      },
      "source": [
        "#### [`values()`](https://python-reference.readthedocs.io/en/latest/docs/dict/values.html)\n",
        "Retorna uma lista dos valores do dicionário."
      ]
    },
    {
      "cell_type": "code",
      "execution_count": null,
      "metadata": {
        "id": "E5pgDcfQ2ZHH"
      },
      "outputs": [],
      "source": []
    },
    {
      "cell_type": "markdown",
      "metadata": {
        "id": "e3XVjR8Frp75"
      },
      "source": [
        "### Leitura de valores com `for`"
      ]
    },
    {
      "cell_type": "code",
      "execution_count": null,
      "metadata": {
        "id": "iwIY3hwV2XL5"
      },
      "outputs": [],
      "source": []
    },
    {
      "cell_type": "code",
      "execution_count": null,
      "metadata": {
        "id": "KlEbYjKN2XCy"
      },
      "outputs": [],
      "source": []
    },
    {
      "cell_type": "code",
      "execution_count": null,
      "metadata": {
        "id": "aiCgk-o42W6u"
      },
      "outputs": [],
      "source": []
    }
  ],
  "metadata": {
    "colab": {
      "provenance": []
    },
    "kernelspec": {
      "display_name": "Python 3",
      "name": "python3"
    },
    "language_info": {
      "name": "python"
    }
  },
  "nbformat": 4,
  "nbformat_minor": 0
}